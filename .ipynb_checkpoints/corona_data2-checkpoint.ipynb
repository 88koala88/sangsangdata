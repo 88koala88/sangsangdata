{
 "cells": [
  {
   "cell_type": "markdown",
   "id": "f9d61244",
   "metadata": {},
   "source": [
    "### 출처:  도서 <생활 속 예제로 배우는 생생 데이터 분석>  조인석 저\n",
    "\n",
    "\n",
    "# 코로나 바이러스 감염 현황 분석2\n"
   ]
  },
  {
   "cell_type": "markdown",
   "id": "8e11e818",
   "metadata": {},
   "source": [
    "### 프로젝트 목표\n",
    "\n",
    "이번에는 앞서 진행한 실습 초기에 제기했던 문제상황을 다시 한번 살펴보자. 대한민국과 하와이의 코로나 상황을 비교하는 것이 문제 상황이었다. 따라서 기존의 미국 전체 인구 기준으로 파악한 확진자 수로 산정한 데이터로는 풀고자 하는 문제의 답을 얻기에 무리가 있다. 따라서 이번에는 지난 실습에 사용한 데이터 셋에 존재하지 않는 새로운 데이터를 찾아 기존 데이터 셋에 합치는 작업을 수행해보자."
   ]
  },
  {
   "cell_type": "markdown",
   "id": "599d040d",
   "metadata": {},
   "source": [
    "### 데이터 수집\n",
    "이번 프로젝트에 필요한 데이터 셋은 하와이의 코로나 감염 현황 데이터이다. https://data.cdc.goc 에 들어가면 테이블 형태의 관련 데이터를 받을 수 있다. 해당 페이지에서 필터링과 정렬 기능을 통해 데이터를 정제한다음 csv파일로 다운로드 받으면 된다. 기존의 소스코드에 이어서 이전 실습 코드 끝부분에서부터 프로젝트 실습을 진행하겠다."
   ]
  },
  {
   "cell_type": "code",
   "execution_count": 49,
   "id": "72abc186",
   "metadata": {},
   "outputs": [],
   "source": [
    "# csv 파일 읽어오기\n",
    "import pandas as pd\n",
    "\n",
    "raw_df = pd.read_csv('../sangsangdata/owid-covid-data.csv')"
   ]
  },
  {
   "cell_type": "code",
   "execution_count": 50,
   "id": "9d9eed6e",
   "metadata": {},
   "outputs": [
    {
     "name": "stdout",
     "output_type": "stream",
     "text": [
      "<class 'pandas.core.frame.DataFrame'>\n",
      "RangeIndex: 192301 entries, 0 to 192300\n",
      "Data columns (total 67 columns):\n",
      " #   Column                                      Non-Null Count   Dtype  \n",
      "---  ------                                      --------------   -----  \n",
      " 0   iso_code                                    192301 non-null  object \n",
      " 1   continent                                   181123 non-null  object \n",
      " 2   location                                    192301 non-null  object \n",
      " 3   date                                        192301 non-null  object \n",
      " 4   total_cases                                 184750 non-null  float64\n",
      " 5   new_cases                                   184508 non-null  float64\n",
      " 6   new_cases_smoothed                          183334 non-null  float64\n",
      " 7   total_deaths                                166260 non-null  float64\n",
      " 8   new_deaths                                  166241 non-null  float64\n",
      " 9   new_deaths_smoothed                         165078 non-null  float64\n",
      " 10  total_cases_per_million                     183898 non-null  float64\n",
      " 11  new_cases_per_million                       183656 non-null  float64\n",
      " 12  new_cases_smoothed_per_million              182487 non-null  float64\n",
      " 13  total_deaths_per_million                    165421 non-null  float64\n",
      " 14  new_deaths_per_million                      165402 non-null  float64\n",
      " 15  new_deaths_smoothed_per_million             164244 non-null  float64\n",
      " 16  reproduction_rate                           143384 non-null  float64\n",
      " 17  icu_patients                                25581 non-null   float64\n",
      " 18  icu_patients_per_million                    25581 non-null   float64\n",
      " 19  hosp_patients                               26818 non-null   float64\n",
      " 20  hosp_patients_per_million                   26818 non-null   float64\n",
      " 21  weekly_icu_admissions                       6252 non-null    float64\n",
      " 22  weekly_icu_admissions_per_million           6252 non-null    float64\n",
      " 23  weekly_hosp_admissions                      12463 non-null   float64\n",
      " 24  weekly_hosp_admissions_per_million          12463 non-null   float64\n",
      " 25  total_tests                                 77796 non-null   float64\n",
      " 26  new_tests                                   74090 non-null   float64\n",
      " 27  total_tests_per_thousand                    77796 non-null   float64\n",
      " 28  new_tests_per_thousand                      74090 non-null   float64\n",
      " 29  new_tests_smoothed                          101500 non-null  float64\n",
      " 30  new_tests_smoothed_per_thousand             101500 non-null  float64\n",
      " 31  positive_rate                               93607 non-null   float64\n",
      " 32  tests_per_case                              91844 non-null   float64\n",
      " 33  tests_units                                 104285 non-null  object \n",
      " 34  total_vaccinations                          52725 non-null   float64\n",
      " 35  people_vaccinated                           50207 non-null   float64\n",
      " 36  people_fully_vaccinated                     47700 non-null   float64\n",
      " 37  total_boosters                              24777 non-null   float64\n",
      " 38  new_vaccinations                            43231 non-null   float64\n",
      " 39  new_vaccinations_smoothed                   104052 non-null  float64\n",
      " 40  total_vaccinations_per_hundred              52725 non-null   float64\n",
      " 41  people_vaccinated_per_hundred               50207 non-null   float64\n",
      " 42  people_fully_vaccinated_per_hundred         47700 non-null   float64\n",
      " 43  total_boosters_per_hundred                  24777 non-null   float64\n",
      " 44  new_vaccinations_smoothed_per_million       104052 non-null  float64\n",
      " 45  new_people_vaccinated_smoothed              102973 non-null  float64\n",
      " 46  new_people_vaccinated_smoothed_per_hundred  102973 non-null  float64\n",
      " 47  stringency_index                            149839 non-null  float64\n",
      " 48  population                                  191132 non-null  float64\n",
      " 49  population_density                          171353 non-null  float64\n",
      " 50  median_age                                  158825 non-null  float64\n",
      " 51  aged_65_older                               157142 non-null  float64\n",
      " 52  aged_70_older                               157992 non-null  float64\n",
      " 53  gdp_per_capita                              157971 non-null  float64\n",
      " 54  extreme_poverty                             103125 non-null  float64\n",
      " 55  cardiovasc_death_rate                       158461 non-null  float64\n",
      " 56  diabetes_prevalence                         166210 non-null  float64\n",
      " 57  female_smokers                              119852 non-null  float64\n",
      " 58  male_smokers                                118209 non-null  float64\n",
      " 59  handwashing_facilities                      77857 non-null   float64\n",
      " 60  hospital_beds_per_thousand                  140598 non-null  float64\n",
      " 61  life_expectancy                             179837 non-null  float64\n",
      " 62  human_development_index                     154377 non-null  float64\n",
      " 63  excess_mortality_cumulative_absolute        6553 non-null    float64\n",
      " 64  excess_mortality_cumulative                 6553 non-null    float64\n",
      " 65  excess_mortality                            6553 non-null    float64\n",
      " 66  excess_mortality_cumulative_per_million     6553 non-null    float64\n",
      "dtypes: float64(62), object(5)\n",
      "memory usage: 98.3+ MB\n"
     ]
    }
   ],
   "source": [
    "# 원천 데이터 데이터 프레임 정보 확인\n",
    "raw_df.info()"
   ]
  },
  {
   "cell_type": "code",
   "execution_count": 51,
   "id": "393b1109",
   "metadata": {},
   "outputs": [
    {
     "data": {
      "text/html": [
       "<div>\n",
       "<style scoped>\n",
       "    .dataframe tbody tr th:only-of-type {\n",
       "        vertical-align: middle;\n",
       "    }\n",
       "\n",
       "    .dataframe tbody tr th {\n",
       "        vertical-align: top;\n",
       "    }\n",
       "\n",
       "    .dataframe thead th {\n",
       "        text-align: right;\n",
       "    }\n",
       "</style>\n",
       "<table border=\"1\" class=\"dataframe\">\n",
       "  <thead>\n",
       "    <tr style=\"text-align: right;\">\n",
       "      <th></th>\n",
       "      <th>iso_code</th>\n",
       "      <th>continent</th>\n",
       "      <th>location</th>\n",
       "      <th>date</th>\n",
       "      <th>total_cases</th>\n",
       "      <th>new_cases</th>\n",
       "      <th>new_cases_smoothed</th>\n",
       "      <th>total_deaths</th>\n",
       "      <th>new_deaths</th>\n",
       "      <th>new_deaths_smoothed</th>\n",
       "      <th>...</th>\n",
       "      <th>female_smokers</th>\n",
       "      <th>male_smokers</th>\n",
       "      <th>handwashing_facilities</th>\n",
       "      <th>hospital_beds_per_thousand</th>\n",
       "      <th>life_expectancy</th>\n",
       "      <th>human_development_index</th>\n",
       "      <th>excess_mortality_cumulative_absolute</th>\n",
       "      <th>excess_mortality_cumulative</th>\n",
       "      <th>excess_mortality</th>\n",
       "      <th>excess_mortality_cumulative_per_million</th>\n",
       "    </tr>\n",
       "  </thead>\n",
       "  <tbody>\n",
       "    <tr>\n",
       "      <th>0</th>\n",
       "      <td>AFG</td>\n",
       "      <td>Asia</td>\n",
       "      <td>Afghanistan</td>\n",
       "      <td>2020-02-24</td>\n",
       "      <td>5.0</td>\n",
       "      <td>5.0</td>\n",
       "      <td>NaN</td>\n",
       "      <td>NaN</td>\n",
       "      <td>NaN</td>\n",
       "      <td>NaN</td>\n",
       "      <td>...</td>\n",
       "      <td>NaN</td>\n",
       "      <td>NaN</td>\n",
       "      <td>37.746</td>\n",
       "      <td>0.5</td>\n",
       "      <td>64.83</td>\n",
       "      <td>0.511</td>\n",
       "      <td>NaN</td>\n",
       "      <td>NaN</td>\n",
       "      <td>NaN</td>\n",
       "      <td>NaN</td>\n",
       "    </tr>\n",
       "    <tr>\n",
       "      <th>1</th>\n",
       "      <td>AFG</td>\n",
       "      <td>Asia</td>\n",
       "      <td>Afghanistan</td>\n",
       "      <td>2020-02-25</td>\n",
       "      <td>5.0</td>\n",
       "      <td>0.0</td>\n",
       "      <td>NaN</td>\n",
       "      <td>NaN</td>\n",
       "      <td>NaN</td>\n",
       "      <td>NaN</td>\n",
       "      <td>...</td>\n",
       "      <td>NaN</td>\n",
       "      <td>NaN</td>\n",
       "      <td>37.746</td>\n",
       "      <td>0.5</td>\n",
       "      <td>64.83</td>\n",
       "      <td>0.511</td>\n",
       "      <td>NaN</td>\n",
       "      <td>NaN</td>\n",
       "      <td>NaN</td>\n",
       "      <td>NaN</td>\n",
       "    </tr>\n",
       "    <tr>\n",
       "      <th>2</th>\n",
       "      <td>AFG</td>\n",
       "      <td>Asia</td>\n",
       "      <td>Afghanistan</td>\n",
       "      <td>2020-02-26</td>\n",
       "      <td>5.0</td>\n",
       "      <td>0.0</td>\n",
       "      <td>NaN</td>\n",
       "      <td>NaN</td>\n",
       "      <td>NaN</td>\n",
       "      <td>NaN</td>\n",
       "      <td>...</td>\n",
       "      <td>NaN</td>\n",
       "      <td>NaN</td>\n",
       "      <td>37.746</td>\n",
       "      <td>0.5</td>\n",
       "      <td>64.83</td>\n",
       "      <td>0.511</td>\n",
       "      <td>NaN</td>\n",
       "      <td>NaN</td>\n",
       "      <td>NaN</td>\n",
       "      <td>NaN</td>\n",
       "    </tr>\n",
       "    <tr>\n",
       "      <th>3</th>\n",
       "      <td>AFG</td>\n",
       "      <td>Asia</td>\n",
       "      <td>Afghanistan</td>\n",
       "      <td>2020-02-27</td>\n",
       "      <td>5.0</td>\n",
       "      <td>0.0</td>\n",
       "      <td>NaN</td>\n",
       "      <td>NaN</td>\n",
       "      <td>NaN</td>\n",
       "      <td>NaN</td>\n",
       "      <td>...</td>\n",
       "      <td>NaN</td>\n",
       "      <td>NaN</td>\n",
       "      <td>37.746</td>\n",
       "      <td>0.5</td>\n",
       "      <td>64.83</td>\n",
       "      <td>0.511</td>\n",
       "      <td>NaN</td>\n",
       "      <td>NaN</td>\n",
       "      <td>NaN</td>\n",
       "      <td>NaN</td>\n",
       "    </tr>\n",
       "    <tr>\n",
       "      <th>4</th>\n",
       "      <td>AFG</td>\n",
       "      <td>Asia</td>\n",
       "      <td>Afghanistan</td>\n",
       "      <td>2020-02-28</td>\n",
       "      <td>5.0</td>\n",
       "      <td>0.0</td>\n",
       "      <td>NaN</td>\n",
       "      <td>NaN</td>\n",
       "      <td>NaN</td>\n",
       "      <td>NaN</td>\n",
       "      <td>...</td>\n",
       "      <td>NaN</td>\n",
       "      <td>NaN</td>\n",
       "      <td>37.746</td>\n",
       "      <td>0.5</td>\n",
       "      <td>64.83</td>\n",
       "      <td>0.511</td>\n",
       "      <td>NaN</td>\n",
       "      <td>NaN</td>\n",
       "      <td>NaN</td>\n",
       "      <td>NaN</td>\n",
       "    </tr>\n",
       "  </tbody>\n",
       "</table>\n",
       "<p>5 rows × 67 columns</p>\n",
       "</div>"
      ],
      "text/plain": [
       "  iso_code continent     location        date  total_cases  new_cases  \\\n",
       "0      AFG      Asia  Afghanistan  2020-02-24          5.0        5.0   \n",
       "1      AFG      Asia  Afghanistan  2020-02-25          5.0        0.0   \n",
       "2      AFG      Asia  Afghanistan  2020-02-26          5.0        0.0   \n",
       "3      AFG      Asia  Afghanistan  2020-02-27          5.0        0.0   \n",
       "4      AFG      Asia  Afghanistan  2020-02-28          5.0        0.0   \n",
       "\n",
       "   new_cases_smoothed  total_deaths  new_deaths  new_deaths_smoothed  ...  \\\n",
       "0                 NaN           NaN         NaN                  NaN  ...   \n",
       "1                 NaN           NaN         NaN                  NaN  ...   \n",
       "2                 NaN           NaN         NaN                  NaN  ...   \n",
       "3                 NaN           NaN         NaN                  NaN  ...   \n",
       "4                 NaN           NaN         NaN                  NaN  ...   \n",
       "\n",
       "   female_smokers  male_smokers  handwashing_facilities  \\\n",
       "0             NaN           NaN                  37.746   \n",
       "1             NaN           NaN                  37.746   \n",
       "2             NaN           NaN                  37.746   \n",
       "3             NaN           NaN                  37.746   \n",
       "4             NaN           NaN                  37.746   \n",
       "\n",
       "   hospital_beds_per_thousand  life_expectancy  human_development_index  \\\n",
       "0                         0.5            64.83                    0.511   \n",
       "1                         0.5            64.83                    0.511   \n",
       "2                         0.5            64.83                    0.511   \n",
       "3                         0.5            64.83                    0.511   \n",
       "4                         0.5            64.83                    0.511   \n",
       "\n",
       "   excess_mortality_cumulative_absolute  excess_mortality_cumulative  \\\n",
       "0                                   NaN                          NaN   \n",
       "1                                   NaN                          NaN   \n",
       "2                                   NaN                          NaN   \n",
       "3                                   NaN                          NaN   \n",
       "4                                   NaN                          NaN   \n",
       "\n",
       "   excess_mortality  excess_mortality_cumulative_per_million  \n",
       "0               NaN                                      NaN  \n",
       "1               NaN                                      NaN  \n",
       "2               NaN                                      NaN  \n",
       "3               NaN                                      NaN  \n",
       "4               NaN                                      NaN  \n",
       "\n",
       "[5 rows x 67 columns]"
      ]
     },
     "execution_count": 51,
     "metadata": {},
     "output_type": "execute_result"
    }
   ],
   "source": [
    "# 원천 데이터의 상위 5개 레코드 확인\n",
    "raw_df.head()"
   ]
  },
  {
   "cell_type": "code",
   "execution_count": 52,
   "id": "de80e29c",
   "metadata": {},
   "outputs": [
    {
     "data": {
      "text/html": [
       "<div>\n",
       "<style scoped>\n",
       "    .dataframe tbody tr th:only-of-type {\n",
       "        vertical-align: middle;\n",
       "    }\n",
       "\n",
       "    .dataframe tbody tr th {\n",
       "        vertical-align: top;\n",
       "    }\n",
       "\n",
       "    .dataframe thead th {\n",
       "        text-align: right;\n",
       "    }\n",
       "</style>\n",
       "<table border=\"1\" class=\"dataframe\">\n",
       "  <thead>\n",
       "    <tr style=\"text-align: right;\">\n",
       "      <th></th>\n",
       "      <th>iso_code</th>\n",
       "      <th>location</th>\n",
       "      <th>date</th>\n",
       "      <th>total_cases</th>\n",
       "      <th>population</th>\n",
       "    </tr>\n",
       "  </thead>\n",
       "  <tbody>\n",
       "    <tr>\n",
       "      <th>0</th>\n",
       "      <td>AFG</td>\n",
       "      <td>Afghanistan</td>\n",
       "      <td>2020-02-24</td>\n",
       "      <td>5.0</td>\n",
       "      <td>39835428.0</td>\n",
       "    </tr>\n",
       "    <tr>\n",
       "      <th>1</th>\n",
       "      <td>AFG</td>\n",
       "      <td>Afghanistan</td>\n",
       "      <td>2020-02-25</td>\n",
       "      <td>5.0</td>\n",
       "      <td>39835428.0</td>\n",
       "    </tr>\n",
       "    <tr>\n",
       "      <th>2</th>\n",
       "      <td>AFG</td>\n",
       "      <td>Afghanistan</td>\n",
       "      <td>2020-02-26</td>\n",
       "      <td>5.0</td>\n",
       "      <td>39835428.0</td>\n",
       "    </tr>\n",
       "    <tr>\n",
       "      <th>3</th>\n",
       "      <td>AFG</td>\n",
       "      <td>Afghanistan</td>\n",
       "      <td>2020-02-27</td>\n",
       "      <td>5.0</td>\n",
       "      <td>39835428.0</td>\n",
       "    </tr>\n",
       "    <tr>\n",
       "      <th>4</th>\n",
       "      <td>AFG</td>\n",
       "      <td>Afghanistan</td>\n",
       "      <td>2020-02-28</td>\n",
       "      <td>5.0</td>\n",
       "      <td>39835428.0</td>\n",
       "    </tr>\n",
       "  </tbody>\n",
       "</table>\n",
       "</div>"
      ],
      "text/plain": [
       "  iso_code     location        date  total_cases  population\n",
       "0      AFG  Afghanistan  2020-02-24          5.0  39835428.0\n",
       "1      AFG  Afghanistan  2020-02-25          5.0  39835428.0\n",
       "2      AFG  Afghanistan  2020-02-26          5.0  39835428.0\n",
       "3      AFG  Afghanistan  2020-02-27          5.0  39835428.0\n",
       "4      AFG  Afghanistan  2020-02-28          5.0  39835428.0"
      ]
     },
     "execution_count": 52,
     "metadata": {},
     "output_type": "execute_result"
    }
   ],
   "source": [
    "# 원하는 열 리스트 만들기\n",
    "selected_columns = ['iso_code', 'location', 'date', 'total_cases', 'population']\n",
    "\n",
    "# 원하는 열로 개정된 데이터 프레임 생성\n",
    "revised_df = raw_df[selected_columns]\n",
    "\n",
    "# 개정된 데이터 프레임 데이터 일부 확인하기\n",
    "revised_df.head()"
   ]
  },
  {
   "cell_type": "code",
   "execution_count": 53,
   "id": "212eea2b",
   "metadata": {},
   "outputs": [
    {
     "data": {
      "text/plain": [
       "0         Afghanistan\n",
       "1         Afghanistan\n",
       "2         Afghanistan\n",
       "3         Afghanistan\n",
       "4         Afghanistan\n",
       "             ...     \n",
       "192296       Zimbabwe\n",
       "192297       Zimbabwe\n",
       "192298       Zimbabwe\n",
       "192299       Zimbabwe\n",
       "192300       Zimbabwe\n",
       "Name: location, Length: 192301, dtype: object"
      ]
     },
     "execution_count": 53,
     "metadata": {},
     "output_type": "execute_result"
    }
   ],
   "source": [
    "# 열 location 값 확인하기\n",
    "location = revised_df['location']\n",
    "location"
   ]
  },
  {
   "cell_type": "code",
   "execution_count": 54,
   "id": "2c7f6760",
   "metadata": {},
   "outputs": [
    {
     "data": {
      "text/plain": [
       "array(['Afghanistan', 'Africa', 'Albania', 'Algeria', 'Andorra', 'Angola',\n",
       "       'Anguilla', 'Antigua and Barbuda', 'Argentina', 'Armenia', 'Aruba',\n",
       "       'Asia', 'Australia', 'Austria', 'Azerbaijan', 'Bahamas', 'Bahrain',\n",
       "       'Bangladesh', 'Barbados', 'Belarus', 'Belgium', 'Belize', 'Benin',\n",
       "       'Bermuda', 'Bhutan', 'Bolivia', 'Bonaire Sint Eustatius and Saba',\n",
       "       'Bosnia and Herzegovina', 'Botswana', 'Brazil',\n",
       "       'British Virgin Islands', 'Brunei', 'Bulgaria', 'Burkina Faso',\n",
       "       'Burundi', 'Cambodia', 'Cameroon', 'Canada', 'Cape Verde',\n",
       "       'Cayman Islands', 'Central African Republic', 'Chad', 'Chile',\n",
       "       'China', 'Colombia', 'Comoros', 'Congo', 'Cook Islands',\n",
       "       'Costa Rica', \"Cote d'Ivoire\", 'Croatia', 'Cuba', 'Curacao',\n",
       "       'Cyprus', 'Czechia', 'Democratic Republic of Congo', 'Denmark',\n",
       "       'Djibouti', 'Dominica', 'Dominican Republic', 'Ecuador', 'Egypt',\n",
       "       'El Salvador', 'Equatorial Guinea', 'Eritrea', 'Estonia',\n",
       "       'Eswatini', 'Ethiopia', 'Europe', 'European Union',\n",
       "       'Faeroe Islands', 'Falkland Islands', 'Fiji', 'Finland', 'France',\n",
       "       'French Polynesia', 'Gabon', 'Gambia', 'Georgia', 'Germany',\n",
       "       'Ghana', 'Gibraltar', 'Greece', 'Greenland', 'Grenada', 'Guam',\n",
       "       'Guatemala', 'Guernsey', 'Guinea', 'Guinea-Bissau', 'Guyana',\n",
       "       'Haiti', 'High income', 'Honduras', 'Hong Kong', 'Hungary',\n",
       "       'Iceland', 'India', 'Indonesia', 'International', 'Iran', 'Iraq',\n",
       "       'Ireland', 'Isle of Man', 'Israel', 'Italy', 'Jamaica', 'Japan',\n",
       "       'Jersey', 'Jordan', 'Kazakhstan', 'Kenya', 'Kiribati', 'Kosovo',\n",
       "       'Kuwait', 'Kyrgyzstan', 'Laos', 'Latvia', 'Lebanon', 'Lesotho',\n",
       "       'Liberia', 'Libya', 'Liechtenstein', 'Lithuania', 'Low income',\n",
       "       'Lower middle income', 'Luxembourg', 'Macao', 'Madagascar',\n",
       "       'Malawi', 'Malaysia', 'Maldives', 'Mali', 'Malta',\n",
       "       'Marshall Islands', 'Mauritania', 'Mauritius', 'Mexico',\n",
       "       'Micronesia (country)', 'Moldova', 'Monaco', 'Mongolia',\n",
       "       'Montenegro', 'Montserrat', 'Morocco', 'Mozambique', 'Myanmar',\n",
       "       'Namibia', 'Nauru', 'Nepal', 'Netherlands', 'New Caledonia',\n",
       "       'New Zealand', 'Nicaragua', 'Niger', 'Nigeria', 'Niue',\n",
       "       'North America', 'North Korea', 'North Macedonia',\n",
       "       'Northern Cyprus', 'Northern Mariana Islands', 'Norway', 'Oceania',\n",
       "       'Oman', 'Pakistan', 'Palau', 'Palestine', 'Panama',\n",
       "       'Papua New Guinea', 'Paraguay', 'Peru', 'Philippines', 'Pitcairn',\n",
       "       'Poland', 'Portugal', 'Puerto Rico', 'Qatar', 'Romania', 'Russia',\n",
       "       'Rwanda', 'Saint Helena', 'Saint Kitts and Nevis', 'Saint Lucia',\n",
       "       'Saint Pierre and Miquelon', 'Saint Vincent and the Grenadines',\n",
       "       'Samoa', 'San Marino', 'Sao Tome and Principe', 'Saudi Arabia',\n",
       "       'Senegal', 'Serbia', 'Seychelles', 'Sierra Leone', 'Singapore',\n",
       "       'Sint Maarten (Dutch part)', 'Slovakia', 'Slovenia',\n",
       "       'Solomon Islands', 'Somalia', 'South Africa', 'South America',\n",
       "       'South Korea', 'South Sudan', 'Spain', 'Sri Lanka', 'Sudan',\n",
       "       'Suriname', 'Sweden', 'Switzerland', 'Syria', 'Taiwan',\n",
       "       'Tajikistan', 'Tanzania', 'Thailand', 'Timor', 'Togo', 'Tokelau',\n",
       "       'Tonga', 'Trinidad and Tobago', 'Tunisia', 'Turkey',\n",
       "       'Turkmenistan', 'Turks and Caicos Islands', 'Tuvalu', 'Uganda',\n",
       "       'Ukraine', 'United Arab Emirates', 'United Kingdom',\n",
       "       'United States', 'United States Virgin Islands',\n",
       "       'Upper middle income', 'Uruguay', 'Uzbekistan', 'Vanuatu',\n",
       "       'Vatican', 'Venezuela', 'Vietnam', 'Wallis and Futuna',\n",
       "       'Western Sahara', 'World', 'Yemen', 'Zambia', 'Zimbabwe'],\n",
       "      dtype=object)"
      ]
     },
     "execution_count": 54,
     "metadata": {},
     "output_type": "execute_result"
    }
   ],
   "source": [
    "# location 열의 유일값 확인하기\n",
    "location.unique()"
   ]
  },
  {
   "cell_type": "code",
   "execution_count": 55,
   "id": "0f0c0a75",
   "metadata": {},
   "outputs": [
    {
     "data": {
      "text/html": [
       "<div>\n",
       "<style scoped>\n",
       "    .dataframe tbody tr th:only-of-type {\n",
       "        vertical-align: middle;\n",
       "    }\n",
       "\n",
       "    .dataframe tbody tr th {\n",
       "        vertical-align: top;\n",
       "    }\n",
       "\n",
       "    .dataframe thead th {\n",
       "        text-align: right;\n",
       "    }\n",
       "</style>\n",
       "<table border=\"1\" class=\"dataframe\">\n",
       "  <thead>\n",
       "    <tr style=\"text-align: right;\">\n",
       "      <th></th>\n",
       "      <th>iso_code</th>\n",
       "      <th>location</th>\n",
       "      <th>date</th>\n",
       "      <th>total_cases</th>\n",
       "      <th>population</th>\n",
       "    </tr>\n",
       "  </thead>\n",
       "  <tbody>\n",
       "    <tr>\n",
       "      <th>160818</th>\n",
       "      <td>KOR</td>\n",
       "      <td>South Korea</td>\n",
       "      <td>2020-01-22</td>\n",
       "      <td>1.0</td>\n",
       "      <td>51305184.0</td>\n",
       "    </tr>\n",
       "    <tr>\n",
       "      <th>160819</th>\n",
       "      <td>KOR</td>\n",
       "      <td>South Korea</td>\n",
       "      <td>2020-01-23</td>\n",
       "      <td>1.0</td>\n",
       "      <td>51305184.0</td>\n",
       "    </tr>\n",
       "    <tr>\n",
       "      <th>160820</th>\n",
       "      <td>KOR</td>\n",
       "      <td>South Korea</td>\n",
       "      <td>2020-01-24</td>\n",
       "      <td>2.0</td>\n",
       "      <td>51305184.0</td>\n",
       "    </tr>\n",
       "    <tr>\n",
       "      <th>160821</th>\n",
       "      <td>KOR</td>\n",
       "      <td>South Korea</td>\n",
       "      <td>2020-01-25</td>\n",
       "      <td>2.0</td>\n",
       "      <td>51305184.0</td>\n",
       "    </tr>\n",
       "    <tr>\n",
       "      <th>160822</th>\n",
       "      <td>KOR</td>\n",
       "      <td>South Korea</td>\n",
       "      <td>2020-01-26</td>\n",
       "      <td>3.0</td>\n",
       "      <td>51305184.0</td>\n",
       "    </tr>\n",
       "  </tbody>\n",
       "</table>\n",
       "</div>"
      ],
      "text/plain": [
       "       iso_code     location        date  total_cases  population\n",
       "160818      KOR  South Korea  2020-01-22          1.0  51305184.0\n",
       "160819      KOR  South Korea  2020-01-23          1.0  51305184.0\n",
       "160820      KOR  South Korea  2020-01-24          2.0  51305184.0\n",
       "160821      KOR  South Korea  2020-01-25          2.0  51305184.0\n",
       "160822      KOR  South Korea  2020-01-26          3.0  51305184.0"
      ]
     },
     "execution_count": 55,
     "metadata": {},
     "output_type": "execute_result"
    }
   ],
   "source": [
    "# 대한민국 데이터 프레임 생성하기\n",
    "kor_df = revised_df[revised_df.location == 'South Korea']\n",
    "\n",
    "# 데이터 일부 확인하기\n",
    "kor_df.head()"
   ]
  },
  {
   "cell_type": "code",
   "execution_count": 56,
   "id": "c42e75cc",
   "metadata": {},
   "outputs": [
    {
     "data": {
      "text/html": [
       "<div>\n",
       "<style scoped>\n",
       "    .dataframe tbody tr th:only-of-type {\n",
       "        vertical-align: middle;\n",
       "    }\n",
       "\n",
       "    .dataframe tbody tr th {\n",
       "        vertical-align: top;\n",
       "    }\n",
       "\n",
       "    .dataframe thead th {\n",
       "        text-align: right;\n",
       "    }\n",
       "</style>\n",
       "<table border=\"1\" class=\"dataframe\">\n",
       "  <thead>\n",
       "    <tr style=\"text-align: right;\">\n",
       "      <th></th>\n",
       "      <th>iso_code</th>\n",
       "      <th>location</th>\n",
       "      <th>total_cases</th>\n",
       "      <th>population</th>\n",
       "    </tr>\n",
       "    <tr>\n",
       "      <th>date</th>\n",
       "      <th></th>\n",
       "      <th></th>\n",
       "      <th></th>\n",
       "      <th></th>\n",
       "    </tr>\n",
       "  </thead>\n",
       "  <tbody>\n",
       "    <tr>\n",
       "      <th>2020-01-22</th>\n",
       "      <td>KOR</td>\n",
       "      <td>South Korea</td>\n",
       "      <td>1.0</td>\n",
       "      <td>51305184.0</td>\n",
       "    </tr>\n",
       "    <tr>\n",
       "      <th>2020-01-23</th>\n",
       "      <td>KOR</td>\n",
       "      <td>South Korea</td>\n",
       "      <td>1.0</td>\n",
       "      <td>51305184.0</td>\n",
       "    </tr>\n",
       "    <tr>\n",
       "      <th>2020-01-24</th>\n",
       "      <td>KOR</td>\n",
       "      <td>South Korea</td>\n",
       "      <td>2.0</td>\n",
       "      <td>51305184.0</td>\n",
       "    </tr>\n",
       "    <tr>\n",
       "      <th>2020-01-25</th>\n",
       "      <td>KOR</td>\n",
       "      <td>South Korea</td>\n",
       "      <td>2.0</td>\n",
       "      <td>51305184.0</td>\n",
       "    </tr>\n",
       "    <tr>\n",
       "      <th>2020-01-26</th>\n",
       "      <td>KOR</td>\n",
       "      <td>South Korea</td>\n",
       "      <td>3.0</td>\n",
       "      <td>51305184.0</td>\n",
       "    </tr>\n",
       "  </tbody>\n",
       "</table>\n",
       "</div>"
      ],
      "text/plain": [
       "           iso_code     location  total_cases  population\n",
       "date                                                     \n",
       "2020-01-22      KOR  South Korea          1.0  51305184.0\n",
       "2020-01-23      KOR  South Korea          1.0  51305184.0\n",
       "2020-01-24      KOR  South Korea          2.0  51305184.0\n",
       "2020-01-25      KOR  South Korea          2.0  51305184.0\n",
       "2020-01-26      KOR  South Korea          3.0  51305184.0"
      ]
     },
     "execution_count": 56,
     "metadata": {},
     "output_type": "execute_result"
    }
   ],
   "source": [
    "# 색인 변경하기\n",
    "kor_date_index_df = kor_df.set_index('date')\n",
    "\n",
    "# 데이터 일부 확인하기\n",
    "kor_date_index_df.head()"
   ]
  },
  {
   "cell_type": "code",
   "execution_count": 57,
   "id": "de657ec0",
   "metadata": {},
   "outputs": [
    {
     "data": {
      "text/html": [
       "<div>\n",
       "<style scoped>\n",
       "    .dataframe tbody tr th:only-of-type {\n",
       "        vertical-align: middle;\n",
       "    }\n",
       "\n",
       "    .dataframe tbody tr th {\n",
       "        vertical-align: top;\n",
       "    }\n",
       "\n",
       "    .dataframe thead th {\n",
       "        text-align: right;\n",
       "    }\n",
       "</style>\n",
       "<table border=\"1\" class=\"dataframe\">\n",
       "  <thead>\n",
       "    <tr style=\"text-align: right;\">\n",
       "      <th></th>\n",
       "      <th>iso_code</th>\n",
       "      <th>location</th>\n",
       "      <th>total_cases</th>\n",
       "      <th>population</th>\n",
       "    </tr>\n",
       "    <tr>\n",
       "      <th>date</th>\n",
       "      <th></th>\n",
       "      <th></th>\n",
       "      <th></th>\n",
       "      <th></th>\n",
       "    </tr>\n",
       "  </thead>\n",
       "  <tbody>\n",
       "    <tr>\n",
       "      <th>2020-01-22</th>\n",
       "      <td>USA</td>\n",
       "      <td>United States</td>\n",
       "      <td>1.0</td>\n",
       "      <td>332915074.0</td>\n",
       "    </tr>\n",
       "    <tr>\n",
       "      <th>2020-01-23</th>\n",
       "      <td>USA</td>\n",
       "      <td>United States</td>\n",
       "      <td>1.0</td>\n",
       "      <td>332915074.0</td>\n",
       "    </tr>\n",
       "    <tr>\n",
       "      <th>2020-01-24</th>\n",
       "      <td>USA</td>\n",
       "      <td>United States</td>\n",
       "      <td>2.0</td>\n",
       "      <td>332915074.0</td>\n",
       "    </tr>\n",
       "    <tr>\n",
       "      <th>2020-01-25</th>\n",
       "      <td>USA</td>\n",
       "      <td>United States</td>\n",
       "      <td>2.0</td>\n",
       "      <td>332915074.0</td>\n",
       "    </tr>\n",
       "    <tr>\n",
       "      <th>2020-01-26</th>\n",
       "      <td>USA</td>\n",
       "      <td>United States</td>\n",
       "      <td>5.0</td>\n",
       "      <td>332915074.0</td>\n",
       "    </tr>\n",
       "  </tbody>\n",
       "</table>\n",
       "</div>"
      ],
      "text/plain": [
       "           iso_code       location  total_cases   population\n",
       "date                                                        \n",
       "2020-01-22      USA  United States          1.0  332915074.0\n",
       "2020-01-23      USA  United States          1.0  332915074.0\n",
       "2020-01-24      USA  United States          2.0  332915074.0\n",
       "2020-01-25      USA  United States          2.0  332915074.0\n",
       "2020-01-26      USA  United States          5.0  332915074.0"
      ]
     },
     "execution_count": 57,
     "metadata": {},
     "output_type": "execute_result"
    }
   ],
   "source": [
    "# 미국 데이터 프레임 생성하기\n",
    "usa_df = revised_df[revised_df.location == 'United States']\n",
    "\n",
    "# 색인 변경하기\n",
    "usa_date_index_df = usa_df.set_index('date')\n",
    "\n",
    "usa_date_index_df.head()"
   ]
  },
  {
   "cell_type": "markdown",
   "id": "d8999739",
   "metadata": {},
   "source": [
    "## 데이터 시각화"
   ]
  },
  {
   "cell_type": "code",
   "execution_count": 58,
   "id": "9a557294",
   "metadata": {},
   "outputs": [
    {
     "data": {
      "text/plain": [
       "date\n",
       "2020-01-22           1.0\n",
       "2020-01-23           1.0\n",
       "2020-01-24           2.0\n",
       "2020-01-25           2.0\n",
       "2020-01-26           3.0\n",
       "                 ...    \n",
       "2022-06-03    18153851.0\n",
       "2022-06-04    18163686.0\n",
       "2022-06-05    18168708.0\n",
       "2022-06-06    18174880.0\n",
       "2022-06-07    18188200.0\n",
       "Name: total_cases, Length: 868, dtype: float64"
      ]
     },
     "execution_count": 58,
     "metadata": {},
     "output_type": "execute_result"
    }
   ],
   "source": [
    "# 대한민국 확진자 수 구하기\n",
    "kor_total_cases = kor_date_index_df['total_cases']\n",
    "kor_total_cases"
   ]
  },
  {
   "cell_type": "code",
   "execution_count": 59,
   "id": "0642f119",
   "metadata": {},
   "outputs": [
    {
     "data": {
      "text/plain": [
       "date\n",
       "2020-01-22           1.0\n",
       "2020-01-23           1.0\n",
       "2020-01-24           2.0\n",
       "2020-01-25           2.0\n",
       "2020-01-26           5.0\n",
       "                 ...    \n",
       "2022-06-03    84724329.0\n",
       "2022-06-04    84748884.0\n",
       "2022-06-05    84762022.0\n",
       "2022-06-06    84882287.0\n",
       "2022-06-07    85003945.0\n",
       "Name: total_cases, Length: 868, dtype: float64"
      ]
     },
     "execution_count": 59,
     "metadata": {},
     "output_type": "execute_result"
    }
   ],
   "source": [
    "# 미국 확진자 수 구하기\n",
    "usa_total_cases = usa_date_index_df['total_cases']\n",
    "usa_total_cases"
   ]
  },
  {
   "cell_type": "code",
   "execution_count": 60,
   "id": "d0d73448",
   "metadata": {},
   "outputs": [
    {
     "data": {
      "text/plain": [
       "Index(['2020-01-22', '2020-01-23', '2020-01-24', '2020-01-25', '2020-01-26',\n",
       "       '2020-01-27', '2020-01-28', '2020-01-29', '2020-01-30', '2020-01-31',\n",
       "       ...\n",
       "       '2022-05-29', '2022-05-30', '2022-05-31', '2022-06-01', '2022-06-02',\n",
       "       '2022-06-03', '2022-06-04', '2022-06-05', '2022-06-06', '2022-06-07'],\n",
       "      dtype='object', name='date', length=868)"
      ]
     },
     "execution_count": 60,
     "metadata": {},
     "output_type": "execute_result"
    }
   ],
   "source": [
    "# 색인 확인하기\n",
    "kor_date_index_df.index"
   ]
  },
  {
   "cell_type": "code",
   "execution_count": 61,
   "id": "d463527d",
   "metadata": {},
   "outputs": [
    {
     "data": {
      "text/html": [
       "<div>\n",
       "<style scoped>\n",
       "    .dataframe tbody tr th:only-of-type {\n",
       "        vertical-align: middle;\n",
       "    }\n",
       "\n",
       "    .dataframe tbody tr th {\n",
       "        vertical-align: top;\n",
       "    }\n",
       "\n",
       "    .dataframe thead th {\n",
       "        text-align: right;\n",
       "    }\n",
       "</style>\n",
       "<table border=\"1\" class=\"dataframe\">\n",
       "  <thead>\n",
       "    <tr style=\"text-align: right;\">\n",
       "      <th></th>\n",
       "      <th>KOR</th>\n",
       "      <th>USA</th>\n",
       "    </tr>\n",
       "    <tr>\n",
       "      <th>date</th>\n",
       "      <th></th>\n",
       "      <th></th>\n",
       "    </tr>\n",
       "  </thead>\n",
       "  <tbody>\n",
       "    <tr>\n",
       "      <th>2020-01-22</th>\n",
       "      <td>1.0</td>\n",
       "      <td>1.0</td>\n",
       "    </tr>\n",
       "    <tr>\n",
       "      <th>2020-01-23</th>\n",
       "      <td>1.0</td>\n",
       "      <td>1.0</td>\n",
       "    </tr>\n",
       "    <tr>\n",
       "      <th>2020-01-24</th>\n",
       "      <td>2.0</td>\n",
       "      <td>2.0</td>\n",
       "    </tr>\n",
       "    <tr>\n",
       "      <th>2020-01-25</th>\n",
       "      <td>2.0</td>\n",
       "      <td>2.0</td>\n",
       "    </tr>\n",
       "    <tr>\n",
       "      <th>2020-01-26</th>\n",
       "      <td>3.0</td>\n",
       "      <td>5.0</td>\n",
       "    </tr>\n",
       "  </tbody>\n",
       "</table>\n",
       "</div>"
      ],
      "text/plain": [
       "            KOR  USA\n",
       "date                \n",
       "2020-01-22  1.0  1.0\n",
       "2020-01-23  1.0  1.0\n",
       "2020-01-24  2.0  2.0\n",
       "2020-01-25  2.0  2.0\n",
       "2020-01-26  3.0  5.0"
      ]
     },
     "execution_count": 61,
     "metadata": {},
     "output_type": "execute_result"
    }
   ],
   "source": [
    "# 시각화용 데이터프레임 생성\n",
    "final_df = pd.DataFrame({\n",
    "    'KOR':kor_total_cases,\n",
    "    'USA':usa_total_cases\n",
    "    }, index=kor_date_index_df.index\n",
    "\n",
    ")\n",
    "\n",
    "final_df.head()"
   ]
  },
  {
   "cell_type": "code",
   "execution_count": 62,
   "id": "9e788a69",
   "metadata": {},
   "outputs": [
    {
     "data": {
      "text/plain": [
       "<AxesSubplot:xlabel='date'>"
      ]
     },
     "execution_count": 62,
     "metadata": {},
     "output_type": "execute_result"
    },
    {
     "data": {
      "image/png": "[encoded data removed]",
      "text/plain": [
       "<Figure size 640x480 with 1 Axes>"
      ]
     },
     "metadata": {},
     "output_type": "display_data"
    }
   ],
   "source": [
    "# 선 그래프 그리기\n",
    "final_df.plot.line()"
   ]
  },
  {
   "cell_type": "code",
   "execution_count": 63,
   "id": "89eeb384",
   "metadata": {},
   "outputs": [
    {
     "data": {
      "text/plain": [
       "<AxesSubplot:xlabel='date'>"
      ]
     },
     "execution_count": 63,
     "metadata": {},
     "output_type": "execute_result"
    },
    {
     "data": {
      "image/png": "[encoded data removed]",
      "text/plain": [
       "<Figure size 640x480 with 1 Axes>"
      ]
     },
     "metadata": {},
     "output_type": "display_data"
    }
   ],
   "source": [
    "# 2022년 그래프 그리기 (6월까지)\n",
    "final_df['2022-01-01':].plot.line()"
   ]
  },
  {
   "cell_type": "code",
   "execution_count": 64,
   "id": "1287bc40",
   "metadata": {},
   "outputs": [
    {
     "data": {
      "text/plain": [
       "<AxesSubplot:xlabel='date'>"
      ]
     },
     "execution_count": 64,
     "metadata": {},
     "output_type": "execute_result"
    },
    {
     "data": {
      "image/png": "[encoded data removed]",
      "text/plain": [
       "<Figure size 640x480 with 1 Axes>"
      ]
     },
     "metadata": {},
     "output_type": "display_data"
    }
   ],
   "source": [
    "# x축 라벨 각도 변경하기\n",
    "final_df['2022-01-01':].plot.line(rot=45)"
   ]
  },
  {
   "cell_type": "code",
   "execution_count": 65,
   "id": "6de5b449",
   "metadata": {},
   "outputs": [
    {
     "name": "stdout",
     "output_type": "stream",
     "text": [
      "미국인구( 332915074.0 ) / 대한민국 인구( 51305184.0 )\n"
     ]
    }
   ],
   "source": [
    "# 대한민국 인구\n",
    "kor_population = kor_date_index_df['population']['2020-01-22']\n",
    "\n",
    "# 미국 인구\n",
    "usa_population = usa_date_index_df['population']['2020-01-22']\n",
    "\n",
    "print('미국인구(', usa_population, ') / 대한민국 인구(', kor_population, ')')"
   ]
  },
  {
   "cell_type": "code",
   "execution_count": 66,
   "id": "5de34504",
   "metadata": {},
   "outputs": [
    {
     "data": {
      "text/plain": [
       "6.49"
      ]
     },
     "execution_count": 66,
     "metadata": {},
     "output_type": "execute_result"
    }
   ],
   "source": [
    "# 인구 비율 구하기\n",
    "rate = round((usa_population / kor_population), 2)\n",
    "rate"
   ]
  },
  {
   "cell_type": "code",
   "execution_count": 67,
   "id": "10c4e143",
   "metadata": {},
   "outputs": [
    {
     "data": {
      "text/html": [
       "<div>\n",
       "<style scoped>\n",
       "    .dataframe tbody tr th:only-of-type {\n",
       "        vertical-align: middle;\n",
       "    }\n",
       "\n",
       "    .dataframe tbody tr th {\n",
       "        vertical-align: top;\n",
       "    }\n",
       "\n",
       "    .dataframe thead th {\n",
       "        text-align: right;\n",
       "    }\n",
       "</style>\n",
       "<table border=\"1\" class=\"dataframe\">\n",
       "  <thead>\n",
       "    <tr style=\"text-align: right;\">\n",
       "      <th></th>\n",
       "      <th>KOR</th>\n",
       "      <th>USA</th>\n",
       "    </tr>\n",
       "    <tr>\n",
       "      <th>date</th>\n",
       "      <th></th>\n",
       "      <th></th>\n",
       "    </tr>\n",
       "  </thead>\n",
       "  <tbody>\n",
       "    <tr>\n",
       "      <th>2020-01-22</th>\n",
       "      <td>6.49</td>\n",
       "      <td>1.0</td>\n",
       "    </tr>\n",
       "    <tr>\n",
       "      <th>2020-01-23</th>\n",
       "      <td>6.49</td>\n",
       "      <td>1.0</td>\n",
       "    </tr>\n",
       "    <tr>\n",
       "      <th>2020-01-24</th>\n",
       "      <td>12.98</td>\n",
       "      <td>2.0</td>\n",
       "    </tr>\n",
       "    <tr>\n",
       "      <th>2020-01-25</th>\n",
       "      <td>12.98</td>\n",
       "      <td>2.0</td>\n",
       "    </tr>\n",
       "    <tr>\n",
       "      <th>2020-01-26</th>\n",
       "      <td>19.47</td>\n",
       "      <td>5.0</td>\n",
       "    </tr>\n",
       "  </tbody>\n",
       "</table>\n",
       "</div>"
      ],
      "text/plain": [
       "              KOR  USA\n",
       "date                  \n",
       "2020-01-22   6.49  1.0\n",
       "2020-01-23   6.49  1.0\n",
       "2020-01-24  12.98  2.0\n",
       "2020-01-25  12.98  2.0\n",
       "2020-01-26  19.47  5.0"
      ]
     },
     "execution_count": 67,
     "metadata": {},
     "output_type": "execute_result"
    }
   ],
   "source": [
    "# 확진자 비율을 적용한 최종 데이터프레임 생성하기\n",
    "final_revised_df = pd.DataFrame({\n",
    "    'KOR':kor_total_cases * rate,            # 비율 반영\n",
    "    'USA':usa_total_cases\n",
    "    }, index=kor_date_index_df.index\n",
    ")\n",
    "\n",
    "final_revised_df.head()"
   ]
  },
  {
   "cell_type": "code",
   "execution_count": 68,
   "id": "4c09bab4",
   "metadata": {},
   "outputs": [
    {
     "data": {
      "text/plain": [
       "<AxesSubplot:xlabel='date'>"
      ]
     },
     "execution_count": 68,
     "metadata": {},
     "output_type": "execute_result"
    },
    {
     "data": {
      "image/png": "[encoded data removed]",
      "text/plain": [
       "<Figure size 640x480 with 1 Axes>"
      ]
     },
     "metadata": {},
     "output_type": "display_data"
    }
   ],
   "source": [
    "# 최종 전체 그래프 확인하기\n",
    "final_revised_df[:].plot.line()"
   ]
  },
  {
   "cell_type": "code",
   "execution_count": 69,
   "id": "a1195925",
   "metadata": {},
   "outputs": [
    {
     "data": {
      "text/plain": [
       "<AxesSubplot:xlabel='date'>"
      ]
     },
     "execution_count": 69,
     "metadata": {},
     "output_type": "execute_result"
    },
    {
     "data": {
      "image/png": "[encoded data removed]",
      "text/plain": [
       "<Figure size 640x480 with 1 Axes>"
      ]
     },
     "metadata": {},
     "output_type": "display_data"
    }
   ],
   "source": [
    "# 최종 2022년(6월까지) 그래프 확인하기\n",
    "final_revised_df['2022-01-01':].plot.line(rot=45)"
   ]
  },
  {
   "cell_type": "markdown",
   "id": "22a20e2b",
   "metadata": {},
   "source": [
    "앞서 다운로드 해온 하와이 관련 csv 파일을 읽어오자."
   ]
  },
  {
   "cell_type": "code",
   "execution_count": 70,
   "id": "327e4c0b",
   "metadata": {},
   "outputs": [
    {
     "data": {
      "text/html": [
       "<div>\n",
       "<style scoped>\n",
       "    .dataframe tbody tr th:only-of-type {\n",
       "        vertical-align: middle;\n",
       "    }\n",
       "\n",
       "    .dataframe tbody tr th {\n",
       "        vertical-align: top;\n",
       "    }\n",
       "\n",
       "    .dataframe thead th {\n",
       "        text-align: right;\n",
       "    }\n",
       "</style>\n",
       "<table border=\"1\" class=\"dataframe\">\n",
       "  <thead>\n",
       "    <tr style=\"text-align: right;\">\n",
       "      <th></th>\n",
       "      <th>submission_date</th>\n",
       "      <th>state</th>\n",
       "      <th>tot_cases</th>\n",
       "      <th>conf_cases</th>\n",
       "      <th>prob_cases</th>\n",
       "      <th>new_case</th>\n",
       "      <th>pnew_case</th>\n",
       "      <th>tot_death</th>\n",
       "      <th>conf_death</th>\n",
       "      <th>prob_death</th>\n",
       "      <th>new_death</th>\n",
       "      <th>pnew_death</th>\n",
       "      <th>created_at</th>\n",
       "      <th>consent_cases</th>\n",
       "      <th>consent_deaths</th>\n",
       "    </tr>\n",
       "  </thead>\n",
       "  <tbody>\n",
       "    <tr>\n",
       "      <th>0</th>\n",
       "      <td>10/26/2021</td>\n",
       "      <td>HI</td>\n",
       "      <td>80876</td>\n",
       "      <td>NaN</td>\n",
       "      <td>NaN</td>\n",
       "      <td>69</td>\n",
       "      <td>10.0</td>\n",
       "      <td>883</td>\n",
       "      <td>NaN</td>\n",
       "      <td>NaN</td>\n",
       "      <td>0</td>\n",
       "      <td>0.0</td>\n",
       "      <td>10/27/2021 02:21:35 PM</td>\n",
       "      <td>Not agree</td>\n",
       "      <td>Not agree</td>\n",
       "    </tr>\n",
       "    <tr>\n",
       "      <th>1</th>\n",
       "      <td>06/17/2021</td>\n",
       "      <td>HI</td>\n",
       "      <td>35862</td>\n",
       "      <td>NaN</td>\n",
       "      <td>NaN</td>\n",
       "      <td>31</td>\n",
       "      <td>0.0</td>\n",
       "      <td>504</td>\n",
       "      <td>NaN</td>\n",
       "      <td>NaN</td>\n",
       "      <td>0</td>\n",
       "      <td>0.0</td>\n",
       "      <td>06/18/2021 01:48:26 PM</td>\n",
       "      <td>Not agree</td>\n",
       "      <td>Not agree</td>\n",
       "    </tr>\n",
       "    <tr>\n",
       "      <th>2</th>\n",
       "      <td>12/30/2021</td>\n",
       "      <td>HI</td>\n",
       "      <td>106350</td>\n",
       "      <td>NaN</td>\n",
       "      <td>NaN</td>\n",
       "      <td>3425</td>\n",
       "      <td>368.0</td>\n",
       "      <td>1074</td>\n",
       "      <td>NaN</td>\n",
       "      <td>NaN</td>\n",
       "      <td>0</td>\n",
       "      <td>0.0</td>\n",
       "      <td>12/31/2021 02:32:16 PM</td>\n",
       "      <td>Not agree</td>\n",
       "      <td>Not agree</td>\n",
       "    </tr>\n",
       "    <tr>\n",
       "      <th>3</th>\n",
       "      <td>11/12/2020</td>\n",
       "      <td>HI</td>\n",
       "      <td>16171</td>\n",
       "      <td>NaN</td>\n",
       "      <td>NaN</td>\n",
       "      <td>94</td>\n",
       "      <td>0.0</td>\n",
       "      <td>221</td>\n",
       "      <td>NaN</td>\n",
       "      <td>NaN</td>\n",
       "      <td>0</td>\n",
       "      <td>0.0</td>\n",
       "      <td>11/13/2020 02:54:34 PM</td>\n",
       "      <td>Not agree</td>\n",
       "      <td>Not agree</td>\n",
       "    </tr>\n",
       "    <tr>\n",
       "      <th>4</th>\n",
       "      <td>06/15/2021</td>\n",
       "      <td>HI</td>\n",
       "      <td>35802</td>\n",
       "      <td>NaN</td>\n",
       "      <td>NaN</td>\n",
       "      <td>33</td>\n",
       "      <td>5.0</td>\n",
       "      <td>503</td>\n",
       "      <td>NaN</td>\n",
       "      <td>NaN</td>\n",
       "      <td>0</td>\n",
       "      <td>0.0</td>\n",
       "      <td>06/16/2021 03:10:20 PM</td>\n",
       "      <td>Not agree</td>\n",
       "      <td>Not agree</td>\n",
       "    </tr>\n",
       "  </tbody>\n",
       "</table>\n",
       "</div>"
      ],
      "text/plain": [
       "  submission_date state  tot_cases  conf_cases  prob_cases  new_case  \\\n",
       "0      10/26/2021    HI      80876         NaN         NaN        69   \n",
       "1      06/17/2021    HI      35862         NaN         NaN        31   \n",
       "2      12/30/2021    HI     106350         NaN         NaN      3425   \n",
       "3      11/12/2020    HI      16171         NaN         NaN        94   \n",
       "4      06/15/2021    HI      35802         NaN         NaN        33   \n",
       "\n",
       "   pnew_case  tot_death  conf_death  prob_death  new_death  pnew_death  \\\n",
       "0       10.0        883         NaN         NaN          0         0.0   \n",
       "1        0.0        504         NaN         NaN          0         0.0   \n",
       "2      368.0       1074         NaN         NaN          0         0.0   \n",
       "3        0.0        221         NaN         NaN          0         0.0   \n",
       "4        5.0        503         NaN         NaN          0         0.0   \n",
       "\n",
       "               created_at consent_cases consent_deaths  \n",
       "0  10/27/2021 02:21:35 PM     Not agree      Not agree  \n",
       "1  06/18/2021 01:48:26 PM     Not agree      Not agree  \n",
       "2  12/31/2021 02:32:16 PM     Not agree      Not agree  \n",
       "3  11/13/2020 02:54:34 PM     Not agree      Not agree  \n",
       "4  06/16/2021 03:10:20 PM     Not agree      Not agree  "
      ]
     },
     "execution_count": 70,
     "metadata": {},
     "output_type": "execute_result"
    }
   ],
   "source": [
    "# csv 파일 읽어오기\n",
    "raw_hawaii_df = pd.read_csv('../sangsangdata/hawaii-covid-data.csv')\n",
    "\n",
    "raw_hawaii_df.head()"
   ]
  },
  {
   "cell_type": "markdown",
   "id": "532628c5",
   "metadata": {},
   "source": [
    "위의 실행 결과를 확인해보면 중간중간에 NaN 데이터가 보인다. 이는 데이터가 존재하지 않을 때 판다스에서 사용하는 값이다. 즉 NaN이 표기된 곳에는 데이터가 존재하지 않는다. 전체 NaN 데이터의 분포를 info() 메서드로 확인해보자."
   ]
  },
  {
   "cell_type": "code",
   "execution_count": 71,
   "id": "c5f72741",
   "metadata": {},
   "outputs": [
    {
     "name": "stdout",
     "output_type": "stream",
     "text": [
      "<class 'pandas.core.frame.DataFrame'>\n",
      "RangeIndex: 912 entries, 0 to 911\n",
      "Data columns (total 15 columns):\n",
      " #   Column           Non-Null Count  Dtype  \n",
      "---  ------           --------------  -----  \n",
      " 0   submission_date  912 non-null    object \n",
      " 1   state            912 non-null    object \n",
      " 2   tot_cases        912 non-null    int64  \n",
      " 3   conf_cases       0 non-null      float64\n",
      " 4   prob_cases       0 non-null      float64\n",
      " 5   new_case         912 non-null    int64  \n",
      " 6   pnew_case        869 non-null    float64\n",
      " 7   tot_death        912 non-null    int64  \n",
      " 8   conf_death       0 non-null      float64\n",
      " 9   prob_death       0 non-null      float64\n",
      " 10  new_death        912 non-null    int64  \n",
      " 11  pnew_death       823 non-null    float64\n",
      " 12  created_at       912 non-null    object \n",
      " 13  consent_cases    912 non-null    object \n",
      " 14  consent_deaths   912 non-null    object \n",
      "dtypes: float64(6), int64(4), object(5)\n",
      "memory usage: 107.0+ KB\n"
     ]
    }
   ],
   "source": [
    "# 데이터 정보 확인하기\n",
    "raw_hawaii_df.info()"
   ]
  },
  {
   "cell_type": "markdown",
   "id": "93f1b8f1",
   "metadata": {},
   "source": [
    "이제 탑재한 데이터 셋의 행 중 필요한 행만 추출해보자."
   ]
  },
  {
   "cell_type": "code",
   "execution_count": 72,
   "id": "04c85347",
   "metadata": {},
   "outputs": [
    {
     "data": {
      "text/html": [
       "<div>\n",
       "<style scoped>\n",
       "    .dataframe tbody tr th:only-of-type {\n",
       "        vertical-align: middle;\n",
       "    }\n",
       "\n",
       "    .dataframe tbody tr th {\n",
       "        vertical-align: top;\n",
       "    }\n",
       "\n",
       "    .dataframe thead th {\n",
       "        text-align: right;\n",
       "    }\n",
       "</style>\n",
       "<table border=\"1\" class=\"dataframe\">\n",
       "  <thead>\n",
       "    <tr style=\"text-align: right;\">\n",
       "      <th></th>\n",
       "      <th>submission_date</th>\n",
       "      <th>tot_cases</th>\n",
       "    </tr>\n",
       "  </thead>\n",
       "  <tbody>\n",
       "    <tr>\n",
       "      <th>0</th>\n",
       "      <td>10/26/2021</td>\n",
       "      <td>80876</td>\n",
       "    </tr>\n",
       "    <tr>\n",
       "      <th>1</th>\n",
       "      <td>06/17/2021</td>\n",
       "      <td>35862</td>\n",
       "    </tr>\n",
       "    <tr>\n",
       "      <th>2</th>\n",
       "      <td>12/30/2021</td>\n",
       "      <td>106350</td>\n",
       "    </tr>\n",
       "    <tr>\n",
       "      <th>3</th>\n",
       "      <td>11/12/2020</td>\n",
       "      <td>16171</td>\n",
       "    </tr>\n",
       "    <tr>\n",
       "      <th>4</th>\n",
       "      <td>06/15/2021</td>\n",
       "      <td>35802</td>\n",
       "    </tr>\n",
       "  </tbody>\n",
       "</table>\n",
       "</div>"
      ],
      "text/plain": [
       "  submission_date  tot_cases\n",
       "0      10/26/2021      80876\n",
       "1      06/17/2021      35862\n",
       "2      12/30/2021     106350\n",
       "3      11/12/2020      16171\n",
       "4      06/15/2021      35802"
      ]
     },
     "execution_count": 72,
     "metadata": {},
     "output_type": "execute_result"
    }
   ],
   "source": [
    "# 필요한 행 추출\n",
    "filtered_hawaii_df = raw_hawaii_df[['submission_date', 'tot_cases']]\n",
    "\n",
    "filtered_hawaii_df.head()"
   ]
  },
  {
   "cell_type": "markdown",
   "id": "f200601d",
   "metadata": {},
   "source": [
    "이번에는 날짜기준으로 다시 데이터를 정렬해보자(submission_date 기준). sort_values() 메서드를 활용하자."
   ]
  },
  {
   "cell_type": "code",
   "execution_count": 73,
   "id": "d84e00ed",
   "metadata": {},
   "outputs": [
    {
     "data": {
      "text/html": [
       "<div>\n",
       "<style scoped>\n",
       "    .dataframe tbody tr th:only-of-type {\n",
       "        vertical-align: middle;\n",
       "    }\n",
       "\n",
       "    .dataframe tbody tr th {\n",
       "        vertical-align: top;\n",
       "    }\n",
       "\n",
       "    .dataframe thead th {\n",
       "        text-align: right;\n",
       "    }\n",
       "</style>\n",
       "<table border=\"1\" class=\"dataframe\">\n",
       "  <thead>\n",
       "    <tr style=\"text-align: right;\">\n",
       "      <th></th>\n",
       "      <th>submission_date</th>\n",
       "      <th>tot_cases</th>\n",
       "    </tr>\n",
       "  </thead>\n",
       "  <tbody>\n",
       "    <tr>\n",
       "      <th>480</th>\n",
       "      <td>01/01/2021</td>\n",
       "      <td>21258</td>\n",
       "    </tr>\n",
       "    <tr>\n",
       "      <th>726</th>\n",
       "      <td>01/01/2022</td>\n",
       "      <td>112283</td>\n",
       "    </tr>\n",
       "    <tr>\n",
       "      <th>371</th>\n",
       "      <td>01/02/2021</td>\n",
       "      <td>21417</td>\n",
       "    </tr>\n",
       "    <tr>\n",
       "      <th>300</th>\n",
       "      <td>01/02/2022</td>\n",
       "      <td>115400</td>\n",
       "    </tr>\n",
       "    <tr>\n",
       "      <th>507</th>\n",
       "      <td>01/03/2021</td>\n",
       "      <td>21539</td>\n",
       "    </tr>\n",
       "  </tbody>\n",
       "</table>\n",
       "</div>"
      ],
      "text/plain": [
       "    submission_date  tot_cases\n",
       "480      01/01/2021      21258\n",
       "726      01/01/2022     112283\n",
       "371      01/02/2021      21417\n",
       "300      01/02/2022     115400\n",
       "507      01/03/2021      21539"
      ]
     },
     "execution_count": 73,
     "metadata": {},
     "output_type": "execute_result"
    }
   ],
   "source": [
    "# 데이터 정렬하기\n",
    "sorted_hawaii_df = filtered_hawaii_df.sort_values(by=\"submission_date\")\n",
    "\n",
    "sorted_hawaii_df.head()"
   ]
  },
  {
   "cell_type": "markdown",
   "id": "d655f8cb",
   "metadata": {},
   "source": [
    "위 데이터를 확인해보면 submission_date의 데이터 타입이 문자열이어서 앞 글자 순으로 정렬이 되었다. 따라서 연도와 무관하게 정렬이 되었기 때문에 이를 다시 수정해보자. 이럴 때 사용할 수 있는것이 to_datetime() 메서드이다. 데이터 프레임에 날짜 데이터 타입의 값으로 이루어진 열을 추가해보자."
   ]
  },
  {
   "cell_type": "code",
   "execution_count": 74,
   "id": "72732db0",
   "metadata": {},
   "outputs": [
    {
     "data": {
      "text/html": [
       "<div>\n",
       "<style scoped>\n",
       "    .dataframe tbody tr th:only-of-type {\n",
       "        vertical-align: middle;\n",
       "    }\n",
       "\n",
       "    .dataframe tbody tr th {\n",
       "        vertical-align: top;\n",
       "    }\n",
       "\n",
       "    .dataframe thead th {\n",
       "        text-align: right;\n",
       "    }\n",
       "</style>\n",
       "<table border=\"1\" class=\"dataframe\">\n",
       "  <thead>\n",
       "    <tr style=\"text-align: right;\">\n",
       "      <th></th>\n",
       "      <th>submission_date</th>\n",
       "      <th>tot_cases</th>\n",
       "      <th>date</th>\n",
       "    </tr>\n",
       "  </thead>\n",
       "  <tbody>\n",
       "    <tr>\n",
       "      <th>480</th>\n",
       "      <td>01/01/2021</td>\n",
       "      <td>21258</td>\n",
       "      <td>2021-01-01</td>\n",
       "    </tr>\n",
       "    <tr>\n",
       "      <th>726</th>\n",
       "      <td>01/01/2022</td>\n",
       "      <td>112283</td>\n",
       "      <td>2022-01-01</td>\n",
       "    </tr>\n",
       "    <tr>\n",
       "      <th>371</th>\n",
       "      <td>01/02/2021</td>\n",
       "      <td>21417</td>\n",
       "      <td>2021-01-02</td>\n",
       "    </tr>\n",
       "    <tr>\n",
       "      <th>300</th>\n",
       "      <td>01/02/2022</td>\n",
       "      <td>115400</td>\n",
       "      <td>2022-01-02</td>\n",
       "    </tr>\n",
       "    <tr>\n",
       "      <th>507</th>\n",
       "      <td>01/03/2021</td>\n",
       "      <td>21539</td>\n",
       "      <td>2021-01-03</td>\n",
       "    </tr>\n",
       "  </tbody>\n",
       "</table>\n",
       "</div>"
      ],
      "text/plain": [
       "    submission_date  tot_cases       date\n",
       "480      01/01/2021      21258 2021-01-01\n",
       "726      01/01/2022     112283 2022-01-01\n",
       "371      01/02/2021      21417 2021-01-02\n",
       "300      01/02/2022     115400 2022-01-02\n",
       "507      01/03/2021      21539 2021-01-03"
      ]
     },
     "execution_count": 74,
     "metadata": {},
     "output_type": "execute_result"
    }
   ],
   "source": [
    "# submission_date를 date 타입으로 변환하여 열 추가하기.\n",
    "sorted_hawaii_df['date'] = pd.to_datetime(filtered_hawaii_df['submission_date'])\n",
    "\n",
    "sorted_hawaii_df.head()"
   ]
  },
  {
   "cell_type": "markdown",
   "id": "85f9f31e",
   "metadata": {},
   "source": [
    "이제 다시 추가된 date 열을 기준으로 정렬해보자. 명명 인수 inplace를 True로 설정하면 해당 데이터 프레임 객체의 값이 변경된다."
   ]
  },
  {
   "cell_type": "code",
   "execution_count": 75,
   "id": "e6260deb",
   "metadata": {},
   "outputs": [
    {
     "data": {
      "text/html": [
       "<div>\n",
       "<style scoped>\n",
       "    .dataframe tbody tr th:only-of-type {\n",
       "        vertical-align: middle;\n",
       "    }\n",
       "\n",
       "    .dataframe tbody tr th {\n",
       "        vertical-align: top;\n",
       "    }\n",
       "\n",
       "    .dataframe thead th {\n",
       "        text-align: right;\n",
       "    }\n",
       "</style>\n",
       "<table border=\"1\" class=\"dataframe\">\n",
       "  <thead>\n",
       "    <tr style=\"text-align: right;\">\n",
       "      <th></th>\n",
       "      <th>submission_date</th>\n",
       "      <th>tot_cases</th>\n",
       "      <th>date</th>\n",
       "    </tr>\n",
       "  </thead>\n",
       "  <tbody>\n",
       "    <tr>\n",
       "      <th>617</th>\n",
       "      <td>01/22/2020</td>\n",
       "      <td>0</td>\n",
       "      <td>2020-01-22</td>\n",
       "    </tr>\n",
       "    <tr>\n",
       "      <th>91</th>\n",
       "      <td>01/23/2020</td>\n",
       "      <td>0</td>\n",
       "      <td>2020-01-23</td>\n",
       "    </tr>\n",
       "    <tr>\n",
       "      <th>797</th>\n",
       "      <td>01/24/2020</td>\n",
       "      <td>0</td>\n",
       "      <td>2020-01-24</td>\n",
       "    </tr>\n",
       "    <tr>\n",
       "      <th>466</th>\n",
       "      <td>01/25/2020</td>\n",
       "      <td>0</td>\n",
       "      <td>2020-01-25</td>\n",
       "    </tr>\n",
       "    <tr>\n",
       "      <th>396</th>\n",
       "      <td>01/26/2020</td>\n",
       "      <td>0</td>\n",
       "      <td>2020-01-26</td>\n",
       "    </tr>\n",
       "    <tr>\n",
       "      <th>...</th>\n",
       "      <td>...</td>\n",
       "      <td>...</td>\n",
       "      <td>...</td>\n",
       "    </tr>\n",
       "    <tr>\n",
       "      <th>29</th>\n",
       "      <td>07/17/2022</td>\n",
       "      <td>309561</td>\n",
       "      <td>2022-07-17</td>\n",
       "    </tr>\n",
       "    <tr>\n",
       "      <th>168</th>\n",
       "      <td>07/18/2022</td>\n",
       "      <td>309561</td>\n",
       "      <td>2022-07-18</td>\n",
       "    </tr>\n",
       "    <tr>\n",
       "      <th>669</th>\n",
       "      <td>07/19/2022</td>\n",
       "      <td>309561</td>\n",
       "      <td>2022-07-19</td>\n",
       "    </tr>\n",
       "    <tr>\n",
       "      <th>455</th>\n",
       "      <td>07/20/2022</td>\n",
       "      <td>313805</td>\n",
       "      <td>2022-07-20</td>\n",
       "    </tr>\n",
       "    <tr>\n",
       "      <th>16</th>\n",
       "      <td>07/21/2022</td>\n",
       "      <td>313805</td>\n",
       "      <td>2022-07-21</td>\n",
       "    </tr>\n",
       "  </tbody>\n",
       "</table>\n",
       "<p>912 rows × 3 columns</p>\n",
       "</div>"
      ],
      "text/plain": [
       "    submission_date  tot_cases       date\n",
       "617      01/22/2020          0 2020-01-22\n",
       "91       01/23/2020          0 2020-01-23\n",
       "797      01/24/2020          0 2020-01-24\n",
       "466      01/25/2020          0 2020-01-25\n",
       "396      01/26/2020          0 2020-01-26\n",
       "..              ...        ...        ...\n",
       "29       07/17/2022     309561 2022-07-17\n",
       "168      07/18/2022     309561 2022-07-18\n",
       "669      07/19/2022     309561 2022-07-19\n",
       "455      07/20/2022     313805 2022-07-20\n",
       "16       07/21/2022     313805 2022-07-21\n",
       "\n",
       "[912 rows x 3 columns]"
      ]
     },
     "execution_count": 75,
     "metadata": {},
     "output_type": "execute_result"
    }
   ],
   "source": [
    "# 데이터 정렬하기\n",
    "sorted_hawaii_df.sort_values(by='date', inplace=True)\n",
    "\n",
    "sorted_hawaii_df"
   ]
  },
  {
   "cell_type": "markdown",
   "id": "92cf8fdc",
   "metadata": {},
   "source": [
    "set_index() 메서드를 사용해 색인을 date로 변경해보자. 이번에도 명명 인수 inplace=True를 활용해보자."
   ]
  },
  {
   "cell_type": "code",
   "execution_count": 76,
   "id": "39958e22",
   "metadata": {},
   "outputs": [
    {
     "data": {
      "text/html": [
       "<div>\n",
       "<style scoped>\n",
       "    .dataframe tbody tr th:only-of-type {\n",
       "        vertical-align: middle;\n",
       "    }\n",
       "\n",
       "    .dataframe tbody tr th {\n",
       "        vertical-align: top;\n",
       "    }\n",
       "\n",
       "    .dataframe thead th {\n",
       "        text-align: right;\n",
       "    }\n",
       "</style>\n",
       "<table border=\"1\" class=\"dataframe\">\n",
       "  <thead>\n",
       "    <tr style=\"text-align: right;\">\n",
       "      <th></th>\n",
       "      <th>submission_date</th>\n",
       "      <th>tot_cases</th>\n",
       "    </tr>\n",
       "    <tr>\n",
       "      <th>date</th>\n",
       "      <th></th>\n",
       "      <th></th>\n",
       "    </tr>\n",
       "  </thead>\n",
       "  <tbody>\n",
       "    <tr>\n",
       "      <th>2020-01-22</th>\n",
       "      <td>01/22/2020</td>\n",
       "      <td>0</td>\n",
       "    </tr>\n",
       "    <tr>\n",
       "      <th>2020-01-23</th>\n",
       "      <td>01/23/2020</td>\n",
       "      <td>0</td>\n",
       "    </tr>\n",
       "    <tr>\n",
       "      <th>2020-01-24</th>\n",
       "      <td>01/24/2020</td>\n",
       "      <td>0</td>\n",
       "    </tr>\n",
       "    <tr>\n",
       "      <th>2020-01-25</th>\n",
       "      <td>01/25/2020</td>\n",
       "      <td>0</td>\n",
       "    </tr>\n",
       "    <tr>\n",
       "      <th>2020-01-26</th>\n",
       "      <td>01/26/2020</td>\n",
       "      <td>0</td>\n",
       "    </tr>\n",
       "    <tr>\n",
       "      <th>...</th>\n",
       "      <td>...</td>\n",
       "      <td>...</td>\n",
       "    </tr>\n",
       "    <tr>\n",
       "      <th>2022-07-17</th>\n",
       "      <td>07/17/2022</td>\n",
       "      <td>309561</td>\n",
       "    </tr>\n",
       "    <tr>\n",
       "      <th>2022-07-18</th>\n",
       "      <td>07/18/2022</td>\n",
       "      <td>309561</td>\n",
       "    </tr>\n",
       "    <tr>\n",
       "      <th>2022-07-19</th>\n",
       "      <td>07/19/2022</td>\n",
       "      <td>309561</td>\n",
       "    </tr>\n",
       "    <tr>\n",
       "      <th>2022-07-20</th>\n",
       "      <td>07/20/2022</td>\n",
       "      <td>313805</td>\n",
       "    </tr>\n",
       "    <tr>\n",
       "      <th>2022-07-21</th>\n",
       "      <td>07/21/2022</td>\n",
       "      <td>313805</td>\n",
       "    </tr>\n",
       "  </tbody>\n",
       "</table>\n",
       "<p>912 rows × 2 columns</p>\n",
       "</div>"
      ],
      "text/plain": [
       "           submission_date  tot_cases\n",
       "date                                 \n",
       "2020-01-22      01/22/2020          0\n",
       "2020-01-23      01/23/2020          0\n",
       "2020-01-24      01/24/2020          0\n",
       "2020-01-25      01/25/2020          0\n",
       "2020-01-26      01/26/2020          0\n",
       "...                    ...        ...\n",
       "2022-07-17      07/17/2022     309561\n",
       "2022-07-18      07/18/2022     309561\n",
       "2022-07-19      07/19/2022     309561\n",
       "2022-07-20      07/20/2022     313805\n",
       "2022-07-21      07/21/2022     313805\n",
       "\n",
       "[912 rows x 2 columns]"
      ]
     },
     "execution_count": 76,
     "metadata": {},
     "output_type": "execute_result"
    }
   ],
   "source": [
    "# 색인 변경하기\n",
    "sorted_hawaii_df.set_index('date', inplace=True)\n",
    "\n",
    "sorted_hawaii_df"
   ]
  },
  {
   "cell_type": "markdown",
   "id": "7f54200a",
   "metadata": {},
   "source": [
    "이제 데이터 시각화를 위한 데이터 프레임을 생성하기 위해 하와이 확진자 수로 이루어진 시리즈를 만들어보자. 날짜를 색인으로 하고, 전체 확진자 수를 값으로 하는 시리즈를 생성하는 코드를 짜보자."
   ]
  },
  {
   "cell_type": "code",
   "execution_count": 77,
   "id": "7ac7d1f9",
   "metadata": {},
   "outputs": [
    {
     "data": {
      "text/plain": [
       "date\n",
       "2020-01-22         0\n",
       "2020-01-23         0\n",
       "2020-01-24         0\n",
       "2020-01-25         0\n",
       "2020-01-26         0\n",
       "               ...  \n",
       "2022-07-17    309561\n",
       "2022-07-18    309561\n",
       "2022-07-19    309561\n",
       "2022-07-20    313805\n",
       "2022-07-21    313805\n",
       "Name: tot_cases, Length: 912, dtype: int64"
      ]
     },
     "execution_count": 77,
     "metadata": {},
     "output_type": "execute_result"
    }
   ],
   "source": [
    "# 하와이 확진자 수 시리즈 만들기\n",
    "hawaii_total_cases = sorted_hawaii_df['tot_cases']\n",
    "\n",
    "hawaii_total_cases"
   ]
  },
  {
   "cell_type": "markdown",
   "id": "b4d4183e",
   "metadata": {},
   "source": [
    "이제 기존의 대한민국 데이터와 비교하기 위해 하와이 주의 인구를 알아야 한다. 이는 확보한 데이터셋에는 없는 데이터이므로 구글 검색 등을 통하여 2022년 하와이 주 전체 인구를 확인해보자. 확인결과 2022년 하와이 인구 수는 1,433,336명이다. 이제 대한민국과 하와이의 인구 비율을 구하자."
   ]
  },
  {
   "cell_type": "code",
   "execution_count": 78,
   "id": "65a3bf64",
   "metadata": {},
   "outputs": [
    {
     "data": {
      "text/plain": [
       "0.03"
      ]
     },
     "execution_count": 78,
     "metadata": {},
     "output_type": "execute_result"
    }
   ],
   "source": [
    "# 하와이 인구\n",
    "hawaii_population = 1_433_336    #파이썬에서는 숫자 세자릿수를 구분하기 위해 (_) 언더바를 넣을 수 있다\n",
    "\n",
    "# 하와이와 대한민국의 인구 비율\n",
    "hawaii_rate = round((hawaii_population / kor_population), 2)\n",
    "hawaii_rate"
   ]
  },
  {
   "cell_type": "markdown",
   "id": "1b0a7ce2",
   "metadata": {},
   "source": [
    "이제 시각화용 데이터 프레임을 만들어보자."
   ]
  },
  {
   "cell_type": "code",
   "execution_count": 79,
   "id": "c135fb2f",
   "metadata": {},
   "outputs": [
    {
     "data": {
      "text/html": [
       "<div>\n",
       "<style scoped>\n",
       "    .dataframe tbody tr th:only-of-type {\n",
       "        vertical-align: middle;\n",
       "    }\n",
       "\n",
       "    .dataframe tbody tr th {\n",
       "        vertical-align: top;\n",
       "    }\n",
       "\n",
       "    .dataframe thead th {\n",
       "        text-align: right;\n",
       "    }\n",
       "</style>\n",
       "<table border=\"1\" class=\"dataframe\">\n",
       "  <thead>\n",
       "    <tr style=\"text-align: right;\">\n",
       "      <th></th>\n",
       "      <th>KOR</th>\n",
       "      <th>HAWAII</th>\n",
       "    </tr>\n",
       "    <tr>\n",
       "      <th>date</th>\n",
       "      <th></th>\n",
       "      <th></th>\n",
       "    </tr>\n",
       "  </thead>\n",
       "  <tbody>\n",
       "    <tr>\n",
       "      <th>2020-01-22</th>\n",
       "      <td>0.03</td>\n",
       "      <td>0</td>\n",
       "    </tr>\n",
       "    <tr>\n",
       "      <th>2020-01-23</th>\n",
       "      <td>0.03</td>\n",
       "      <td>0</td>\n",
       "    </tr>\n",
       "    <tr>\n",
       "      <th>2020-01-24</th>\n",
       "      <td>0.06</td>\n",
       "      <td>0</td>\n",
       "    </tr>\n",
       "    <tr>\n",
       "      <th>2020-01-25</th>\n",
       "      <td>0.06</td>\n",
       "      <td>0</td>\n",
       "    </tr>\n",
       "    <tr>\n",
       "      <th>2020-01-26</th>\n",
       "      <td>0.09</td>\n",
       "      <td>0</td>\n",
       "    </tr>\n",
       "    <tr>\n",
       "      <th>...</th>\n",
       "      <td>...</td>\n",
       "      <td>...</td>\n",
       "    </tr>\n",
       "    <tr>\n",
       "      <th>2022-06-03</th>\n",
       "      <td>544615.53</td>\n",
       "      <td>275631</td>\n",
       "    </tr>\n",
       "    <tr>\n",
       "      <th>2022-06-04</th>\n",
       "      <td>544910.58</td>\n",
       "      <td>275631</td>\n",
       "    </tr>\n",
       "    <tr>\n",
       "      <th>2022-06-05</th>\n",
       "      <td>545061.24</td>\n",
       "      <td>275631</td>\n",
       "    </tr>\n",
       "    <tr>\n",
       "      <th>2022-06-06</th>\n",
       "      <td>545246.40</td>\n",
       "      <td>275631</td>\n",
       "    </tr>\n",
       "    <tr>\n",
       "      <th>2022-06-07</th>\n",
       "      <td>545646.00</td>\n",
       "      <td>275631</td>\n",
       "    </tr>\n",
       "  </tbody>\n",
       "</table>\n",
       "<p>868 rows × 2 columns</p>\n",
       "</div>"
      ],
      "text/plain": [
       "                  KOR  HAWAII\n",
       "date                         \n",
       "2020-01-22       0.03       0\n",
       "2020-01-23       0.03       0\n",
       "2020-01-24       0.06       0\n",
       "2020-01-25       0.06       0\n",
       "2020-01-26       0.09       0\n",
       "...               ...     ...\n",
       "2022-06-03  544615.53  275631\n",
       "2022-06-04  544910.58  275631\n",
       "2022-06-05  545061.24  275631\n",
       "2022-06-06  545246.40  275631\n",
       "2022-06-07  545646.00  275631\n",
       "\n",
       "[868 rows x 2 columns]"
      ]
     },
     "execution_count": 79,
     "metadata": {},
     "output_type": "execute_result"
    }
   ],
   "source": [
    "# 확진자 비율을 적용한 최종 데이터 프레임 생성하기\n",
    "final_hawaii_revised_df = pd.DataFrame({\n",
    "    'KOR' : kor_total_cases * hawaii_rate,\n",
    "    'HAWAII' : hawaii_total_cases\n",
    "    }, index=kor_date_index_df.index\n",
    ")\n",
    "\n",
    "final_hawaii_revised_df"
   ]
  },
  {
   "cell_type": "markdown",
   "id": "a2aac081",
   "metadata": {},
   "source": [
    "위 데이터 프레임을 확인해보면 하와이 열의 모든값이 NaN으로 설정되어 있다.(원래는 NaN으로 표기되어 나오나 여기에선 업데이트가 되면서 자동으로 수정되어 있다.) 값이 없다는 뜻이다. 무엇이 문제일까?"
   ]
  },
  {
   "cell_type": "code",
   "execution_count": 80,
   "id": "81c90b25",
   "metadata": {},
   "outputs": [
    {
     "data": {
      "text/plain": [
       "date\n",
       "2020-01-22           1.0\n",
       "2020-01-23           1.0\n",
       "2020-01-24           2.0\n",
       "2020-01-25           2.0\n",
       "2020-01-26           3.0\n",
       "                 ...    \n",
       "2022-06-03    18153851.0\n",
       "2022-06-04    18163686.0\n",
       "2022-06-05    18168708.0\n",
       "2022-06-06    18174880.0\n",
       "2022-06-07    18188200.0\n",
       "Name: total_cases, Length: 868, dtype: float64"
      ]
     },
     "execution_count": 80,
     "metadata": {},
     "output_type": "execute_result"
    }
   ],
   "source": [
    "# 대한민국 확진자 수 시리즈 확인\n",
    "kor_total_cases"
   ]
  },
  {
   "cell_type": "code",
   "execution_count": 81,
   "id": "ba708aeb",
   "metadata": {},
   "outputs": [
    {
     "data": {
      "text/plain": [
       "date\n",
       "2020-01-22         0\n",
       "2020-01-23         0\n",
       "2020-01-24         0\n",
       "2020-01-25         0\n",
       "2020-01-26         0\n",
       "               ...  \n",
       "2022-07-17    309561\n",
       "2022-07-18    309561\n",
       "2022-07-19    309561\n",
       "2022-07-20    313805\n",
       "2022-07-21    313805\n",
       "Name: tot_cases, Length: 912, dtype: int64"
      ]
     },
     "execution_count": 81,
     "metadata": {},
     "output_type": "execute_result"
    }
   ],
   "source": [
    "# 하와이 확진자 수 시리즈 확인\n",
    "hawaii_total_cases"
   ]
  },
  {
   "cell_type": "markdown",
   "id": "52446ca5",
   "metadata": {},
   "source": [
    "하와이 확진자 수 엔트리가 더 많긴 하지만, 데이터프레임 생성시 대한민국 색인을 기준으로 했기 때문에 별 상관은 없다. 하와이 데이터 끝부분은 잘려나갈 것이기 때문이다. 그러면 어떤 것이 문제일까? 바로 색인의 데이터 타입이 다르기 때문이다. 데이터 타입을 확인해보자."
   ]
  },
  {
   "cell_type": "code",
   "execution_count": 82,
   "id": "2b6100dc",
   "metadata": {},
   "outputs": [
    {
     "name": "stdout",
     "output_type": "stream",
     "text": [
      "object\n"
     ]
    }
   ],
   "source": [
    "# 대한민국 시리즈 색인 데이터 타입 확인\n",
    "print(kor_total_cases.index.dtype)"
   ]
  },
  {
   "cell_type": "code",
   "execution_count": 83,
   "id": "30f9da00",
   "metadata": {},
   "outputs": [
    {
     "name": "stdout",
     "output_type": "stream",
     "text": [
      "datetime64[ns]\n"
     ]
    }
   ],
   "source": [
    "# 하와이 시리즈 색인 데이터 타입 확인\n",
    "print(hawaii_total_cases.index.dtype)"
   ]
  },
  {
   "cell_type": "markdown",
   "id": "6b287b58",
   "metadata": {},
   "source": [
    "위에서 볼 수 있듯이 대한민국 시리즈의 색인 데이터 타입은 문자열이지만, 하와이 시리즈의 색인 데이터 타입은 날짜 타입이다. 그렇기 때문에 하와이 데이터의 값이 데이터프레임에 들어올 수 없었던 것이다."
   ]
  },
  {
   "cell_type": "markdown",
   "id": "0819c64a",
   "metadata": {},
   "source": [
    "이런 경우에 대비하여 판다스에서는 색인 데이터 타입을 변경할 수 있는 간편한 방법을 제공한다. astype() 메서드를 사용하면 된다."
   ]
  },
  {
   "cell_type": "code",
   "execution_count": 84,
   "id": "4de89970",
   "metadata": {},
   "outputs": [
    {
     "name": "stdout",
     "output_type": "stream",
     "text": [
      "string\n"
     ]
    }
   ],
   "source": [
    "# 하와이 시리즈 색인 데이터 타입 문자열로 변경하기\n",
    "hawaii_total_cases.index = hawaii_total_cases.index.astype('string')\n",
    "\n",
    "# 하와이 시리즈 색인 데이터 타입 재확인\n",
    "print(hawaii_total_cases.index.dtype)"
   ]
  },
  {
   "cell_type": "markdown",
   "id": "0e4ed446",
   "metadata": {},
   "source": [
    "이제 시각화를 위한 최종 데이터프레임을 만들어보자. 데이터 타입을 바꿨으니 위에서 썼던 코드를 다시 쓰면 된다."
   ]
  },
  {
   "cell_type": "code",
   "execution_count": 85,
   "id": "2900fd36",
   "metadata": {},
   "outputs": [
    {
     "data": {
      "text/html": [
       "<div>\n",
       "<style scoped>\n",
       "    .dataframe tbody tr th:only-of-type {\n",
       "        vertical-align: middle;\n",
       "    }\n",
       "\n",
       "    .dataframe tbody tr th {\n",
       "        vertical-align: top;\n",
       "    }\n",
       "\n",
       "    .dataframe thead th {\n",
       "        text-align: right;\n",
       "    }\n",
       "</style>\n",
       "<table border=\"1\" class=\"dataframe\">\n",
       "  <thead>\n",
       "    <tr style=\"text-align: right;\">\n",
       "      <th></th>\n",
       "      <th>KOR</th>\n",
       "      <th>HAWAII</th>\n",
       "    </tr>\n",
       "    <tr>\n",
       "      <th>date</th>\n",
       "      <th></th>\n",
       "      <th></th>\n",
       "    </tr>\n",
       "  </thead>\n",
       "  <tbody>\n",
       "    <tr>\n",
       "      <th>2020-01-22</th>\n",
       "      <td>0.03</td>\n",
       "      <td>0</td>\n",
       "    </tr>\n",
       "    <tr>\n",
       "      <th>2020-01-23</th>\n",
       "      <td>0.03</td>\n",
       "      <td>0</td>\n",
       "    </tr>\n",
       "    <tr>\n",
       "      <th>2020-01-24</th>\n",
       "      <td>0.06</td>\n",
       "      <td>0</td>\n",
       "    </tr>\n",
       "    <tr>\n",
       "      <th>2020-01-25</th>\n",
       "      <td>0.06</td>\n",
       "      <td>0</td>\n",
       "    </tr>\n",
       "    <tr>\n",
       "      <th>2020-01-26</th>\n",
       "      <td>0.09</td>\n",
       "      <td>0</td>\n",
       "    </tr>\n",
       "    <tr>\n",
       "      <th>...</th>\n",
       "      <td>...</td>\n",
       "      <td>...</td>\n",
       "    </tr>\n",
       "    <tr>\n",
       "      <th>2022-06-03</th>\n",
       "      <td>544615.53</td>\n",
       "      <td>275631</td>\n",
       "    </tr>\n",
       "    <tr>\n",
       "      <th>2022-06-04</th>\n",
       "      <td>544910.58</td>\n",
       "      <td>275631</td>\n",
       "    </tr>\n",
       "    <tr>\n",
       "      <th>2022-06-05</th>\n",
       "      <td>545061.24</td>\n",
       "      <td>275631</td>\n",
       "    </tr>\n",
       "    <tr>\n",
       "      <th>2022-06-06</th>\n",
       "      <td>545246.40</td>\n",
       "      <td>275631</td>\n",
       "    </tr>\n",
       "    <tr>\n",
       "      <th>2022-06-07</th>\n",
       "      <td>545646.00</td>\n",
       "      <td>275631</td>\n",
       "    </tr>\n",
       "  </tbody>\n",
       "</table>\n",
       "<p>868 rows × 2 columns</p>\n",
       "</div>"
      ],
      "text/plain": [
       "                  KOR  HAWAII\n",
       "date                         \n",
       "2020-01-22       0.03       0\n",
       "2020-01-23       0.03       0\n",
       "2020-01-24       0.06       0\n",
       "2020-01-25       0.06       0\n",
       "2020-01-26       0.09       0\n",
       "...               ...     ...\n",
       "2022-06-03  544615.53  275631\n",
       "2022-06-04  544910.58  275631\n",
       "2022-06-05  545061.24  275631\n",
       "2022-06-06  545246.40  275631\n",
       "2022-06-07  545646.00  275631\n",
       "\n",
       "[868 rows x 2 columns]"
      ]
     },
     "execution_count": 85,
     "metadata": {},
     "output_type": "execute_result"
    }
   ],
   "source": [
    "# 최종 데이터프레임 생성하기\n",
    "final_hawaii_revised_df = pd.DataFrame({\n",
    "    'KOR' : kor_total_cases * hawaii_rate,\n",
    "    'HAWAII' : hawaii_total_cases\n",
    "    }, index=kor_date_index_df.index\n",
    ")\n",
    "\n",
    "final_hawaii_revised_df"
   ]
  },
  {
   "cell_type": "markdown",
   "id": "d3aa6584",
   "metadata": {},
   "source": [
    "이제 기존에 사용했던 소스코드를 다시 활용하여 그래프를 그려보자."
   ]
  },
  {
   "cell_type": "code",
   "execution_count": 86,
   "id": "cbcf99f7",
   "metadata": {},
   "outputs": [
    {
     "data": {
      "text/plain": [
       "<AxesSubplot:xlabel='date'>"
      ]
     },
     "execution_count": 86,
     "metadata": {},
     "output_type": "execute_result"
    },
    {
     "data": {
      "image/png": "[encoded data removed]",
      "text/plain": [
       "<Figure size 640x480 with 1 Axes>"
      ]
     },
     "metadata": {},
     "output_type": "display_data"
    }
   ],
   "source": [
    "# 선 그래프 그리기\n",
    "final_hawaii_revised_df.plot.line()"
   ]
  },
  {
   "cell_type": "markdown",
   "id": "4b1fa9bb",
   "metadata": {},
   "source": [
    "기존의 미국 확진자와 굉장히 비슷한 양상을 보이는 것을 확인할 수 있다. 이번엔 올해의 데이터로만 그래프를 표현해보자. x축 라벨의 표기는 45도 기울여서 출력한다."
   ]
  },
  {
   "cell_type": "code",
   "execution_count": 87,
   "id": "6a44b19c",
   "metadata": {},
   "outputs": [
    {
     "data": {
      "text/plain": [
       "<AxesSubplot:xlabel='date'>"
      ]
     },
     "execution_count": 87,
     "metadata": {},
     "output_type": "execute_result"
    },
    {
     "data": {
      "image/png": "[encoded data removed]",
      "text/plain": [
       "<Figure size 640x480 with 1 Axes>"
      ]
     },
     "metadata": {},
     "output_type": "display_data"
    }
   ],
   "source": [
    "# 올해 그래프 확인하기\n",
    "final_hawaii_revised_df['2022-01-01':].plot.line(rot=45)"
   ]
  },
  {
   "cell_type": "markdown",
   "id": "9d4267fb",
   "metadata": {},
   "source": [
    "이 역시 미국 전체의 양상과 크게 다르지 않아 보인다. 결과적으로 하와이 주의 코로나 확진자 수 비율은 서서히 증가하고 있으나, 대한민국에 비해 절반 수준 정도의 수치를 보인다는 것을 확인해 볼 수 있었다."
   ]
  }
 ],
 "metadata": {
  "kernelspec": {
   "display_name": "Python 3 (ipykernel)",
   "language": "python",
   "name": "python3"
  },
  "language_info": {
   "codemirror_mode": {
    "name": "ipython",
    "version": 3
   },
   "file_extension": ".py",
   "mimetype": "text/x-python",
   "name": "python",
   "nbconvert_exporter": "python",
   "pygments_lexer": "ipython3",
   "version": "3.9.13"
  },
  "toc": {
   "base_numbering": 1,
   "nav_menu": {},
   "number_sections": false,
   "sideBar": true,
   "skip_h1_title": false,
   "title_cell": "Table of Contents",
   "title_sidebar": "Contents",
   "toc_cell": false,
   "toc_position": {
    "height": "calc(100% - 180px)",
    "left": "10px",
    "top": "150px",
    "width": "275.796875px"
   },
   "toc_section_display": true,
   "toc_window_display": false
  }
 },
 "nbformat": 4,
 "nbformat_minor": 5
}
