{
 "cells": [
  {
   "cell_type": "markdown",
   "id": "62760063",
   "metadata": {},
   "source": [
    "## 수집한 데이터 시각화해보기"
   ]
  },
  {
   "cell_type": "markdown",
   "id": "add74066",
   "metadata": {},
   "source": [
    "판다스 라이브러리를 불러온 후 가공할 데이터 'owid-covid-data.csv'를 불러오자. 여기서는 코로나 관련 데이터를 활용할 것이다."
   ]
  },
  {
   "cell_type": "code",
   "execution_count": null,
   "id": "0fac58e3",
   "metadata": {},
   "outputs": [],
   "source": [
    "import pandas as pd\n",
    "revised_df = pd.read_csv('owid-covid-data.csv')"
   ]
  },
  {
   "cell_type": "markdown",
   "id": "2df00170",
   "metadata": {},
   "source": [
    "넘파이 라이브러리를 불러오고 데이터 시각화를 위해 plotly의 라이브러리를 활용해보자. (출처 : https://plotly.com/python/)"
   ]
  },
  {
   "cell_type": "code",
   "execution_count": null,
   "id": "272a1d03",
   "metadata": {},
   "outputs": [],
   "source": [
    "import plotly.express as px\n",
    "import numpy as np"
   ]
  },
  {
   "cell_type": "markdown",
   "id": "a8450295",
   "metadata": {},
   "source": [
    "total_cases와 new_cases에 null 값이 있어 에러가 날 수 있으므로 fillna() 메서드로 값을 0으로 변경해주자. 처음 시각화를 하는 과정에서 null 값을 인식하지 못해서 자주 에러가 난다. 수치화가 제대로 되지 않으면 그래프 등으로 시각화 하는데 어려움이 있으므로 항상 유념하자."
   ]
  },
  {
   "cell_type": "code",
   "execution_count": null,
   "id": "68af35a3",
   "metadata": {},
   "outputs": [],
   "source": [
    "revised_df['total_cases'] = revised_df['total_cases'].fillna(0)\n",
    "revised_df['new_cases'] = revised_df['new_cases'].fillna(0)"
   ]
  },
  {
   "cell_type": "markdown",
   "id": "7fbd215b",
   "metadata": {},
   "source": [
    "2022-06-07에 해당하는 데이터프레임을 생성하기 위해서 다음 첫번째 줄 코드와 같이 짜보자. 데이터 중 가장 최근 확진자 수를 확인할 수 있다. 또한 revised_df_total 변수의 인덱스열은 자료로 올리지말고 버려야 하므로 두번째 줄 코드 처럼 다음과 같은 인수 'drop = true'를 활용한다. 마지막 세번째 줄의 코드는 contient 열에서 누락값이 있는 항목을 제외하기 위한 코드이다."
   ]
  },
  {
   "cell_type": "code",
   "execution_count": null,
   "id": "50e77fdb",
   "metadata": {},
   "outputs": [],
   "source": [
    "revised_df_total = revised_df[revised_df['date'] == '2022-06-07']\n",
    "revised_df_total = revised_df_total.reset_index(drop = True)\n",
    "revised_df_total_2 = revised_df_total[~revised_df_total['continent'].isnull()"
   ]
  },
  {
   "cell_type": "markdown",
   "id": "d505e6fc",
   "metadata": {},
   "source": [
    "이제 본격적으로 가공된 데이터를 시각화해보자. 해당 소스코드들은 해당 페이지를 참조하면 된다. 여기서는 코로나 확진자 분포에 대한 분석을 진행하는 것이 목표이다."
   ]
  },
  {
   "cell_type": "code",
   "execution_count": null,
   "id": "2eaaabbb",
   "metadata": {},
   "outputs": [],
   "source": [
    "# 지도 시각화\n",
    "fig = px.scatter_geo(revised_df_total_2, locations=\"iso_code\", color=\"location\",\n",
    "                     hover_name=\"location\", size=\"total_cases\",\n",
    "                     projection=\"natural earth\")\n",
    "fig.show()"
   ]
  },
  {
   "cell_type": "markdown",
   "id": "508606df",
   "metadata": {},
   "source": [
    "위와 같은 지도 시각화를 활용하면 세계 추이를 한눈에 파악할 수 있다. 더불어 동그라미 크기로 나타나는 확진자 수를 통하여 어느 국가에서 많은 확진자 수가 발생했는지 쉽게 파악할 수 있다. 어느 한곳에 국한된 것이 아닌 넓은 범위 혹은 세계적인 동향을 파악할 때 지도 시각화는 상당히 유용할 것이다."
   ]
  },
  {
   "cell_type": "code",
   "execution_count": null,
   "id": "0b07ec90",
   "metadata": {},
   "outputs": [],
   "source": [
    "# 트리맵 시각화\n",
    "fig = px.treemap(revised_df_total_2, path=[px.Constant(\"World\"), 'continent', 'location'], values='total_cases',\n",
    "                  color='total_cases', hover_data=['iso_code'],\n",
    "                  color_continuous_scale='RdBu')\n",
    "fig.update_layout(margin = dict(t=50, l=25, r=25, b=25))\n",
    "fig.show()"
   ]
  },
  {
   "cell_type": "markdown",
   "id": "b8fcf539",
   "metadata": {},
   "source": [
    "트리맵을 활용하면 대륙별 묶음을 통하여 대륙별로 구별하여 확진자 추이를 파악하기가 쉽다. 또한 대륙내에서도 어느 국가가 많은 범위를 차지하는지 쉽게 보이므로 대륙내 비교도 용이하다. 색상으로 확진자 수가 표현되기 때문에 어느 국가가 많은 확진자 수가 발생했는지도 쉽게 파악 가능하다. (한눈에 USA의 확진자 수가 가장 많다는걸 알 수 있다) 이러한 그래프 형태는 최근 finviz.com에서 미국 주식의 상승 or 하락 형태를 표현하는데 쓰이고 있다. 인포그래픽으로 유용하기 때문에 많은 사용자들이 이러한 그래프를 선호하고 있다."
   ]
  },
  {
   "cell_type": "code",
   "execution_count": null,
   "id": "22dec3ab",
   "metadata": {},
   "outputs": [],
   "source": [
    "# 국가, 날짜에 따른 시각화\n",
    "fig = px.line(revised_df, x=\"date\", y=\"new_cases\", color='location')\n",
    "fig.show()"
   ]
  },
  {
   "cell_type": "code",
   "execution_count": null,
   "id": "165eeb94",
   "metadata": {},
   "outputs": [],
   "source": [
    "# 대륙에 따른 시각화\n",
    "fig = px.line(revised_df, x=\"date\", y=\"new_cases\", color='continent')\n",
    "fig.show()"
   ]
  },
  {
   "cell_type": "markdown",
   "id": "6a8b4c26",
   "metadata": {},
   "source": [
    "위 두 그래프는 확진자 추이를 선 그래프로 나타낸 것이다. 가장 흔하게 쓰이는 그래프 형태이다. x,y 축을 어떻게 설정하느냐에 따라서 전달하고자 하는 정보가 다양해질 수 있기 때문에 유용하다. 또한 선에 색상을 설정함으로써 항목별 구분이 가능하게 할 수 있다."
   ]
  }
 ],
 "metadata": {
  "kernelspec": {
   "display_name": "Python 3 (ipykernel)",
   "language": "python",
   "name": "python3"
  },
  "language_info": {
   "codemirror_mode": {
    "name": "ipython",
    "version": 3
   },
   "file_extension": ".py",
   "mimetype": "text/x-python",
   "name": "python",
   "nbconvert_exporter": "python",
   "pygments_lexer": "ipython3",
   "version": "3.9.13"
  },
  "toc": {
   "base_numbering": 1,
   "nav_menu": {},
   "number_sections": false,
   "sideBar": true,
   "skip_h1_title": false,
   "title_cell": "Table of Contents",
   "title_sidebar": "Contents",
   "toc_cell": false,
   "toc_position": {
    "height": "calc(100% - 180px)",
    "left": "10px",
    "top": "150px",
    "width": "275.796875px"
   },
   "toc_section_display": true,
   "toc_window_display": false
  }
 },
 "nbformat": 4,
 "nbformat_minor": 5
}
