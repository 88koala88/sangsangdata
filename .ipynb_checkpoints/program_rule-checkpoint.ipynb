{
 "cells": [
  {
   "cell_type": "markdown",
   "id": "71a22188",
   "metadata": {},
   "source": [
    "### 출처:  도서 <생활 속 예제로 배우는 생생 데이터 분석>  조인석 저\n",
    "\n",
    "\n",
    "# 프로그래밍 언어 사이의 연관 규칙 분석"
   ]
  },
  {
   "cell_type": "markdown",
   "id": "d77c52c1",
   "metadata": {},
   "source": [
    "### 프로젝트 개요"
   ]
  }
 ],
 "metadata": {
  "kernelspec": {
   "display_name": "Python 3 (ipykernel)",
   "language": "python",
   "name": "python3"
  },
  "language_info": {
   "codemirror_mode": {
    "name": "ipython",
    "version": 3
   },
   "file_extension": ".py",
   "mimetype": "text/x-python",
   "name": "python",
   "nbconvert_exporter": "python",
   "pygments_lexer": "ipython3",
   "version": "3.9.13"
  },
  "toc": {
   "base_numbering": 1,
   "nav_menu": {},
   "number_sections": false,
   "sideBar": true,
   "skip_h1_title": false,
   "title_cell": "Table of Contents",
   "title_sidebar": "Contents",
   "toc_cell": false,
   "toc_position": {
    "height": "calc(100% - 180px)",
    "left": "10px",
    "top": "150px",
    "width": "288px"
   },
   "toc_section_display": true,
   "toc_window_display": false
  }
 },
 "nbformat": 4,
 "nbformat_minor": 5
}
