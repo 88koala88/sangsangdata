{
 "cells": [
  {
   "cell_type": "markdown",
   "id": "f9d61244",
   "metadata": {},
   "source": [
    "### 출처:  도서 <생활 속 예제로 배우는 생생 데이터 분석>  조인석 저\n",
    "\n",
    "\n",
    "# 전 세계 개발자 현황 분석\n"
   ]
  },
  {
   "cell_type": "markdown",
   "id": "397b8e50",
   "metadata": {},
   "source": [
    "### 프로젝트 개요"
   ]
  },
  {
   "cell_type": "code",
   "execution_count": null,
   "id": "8f0394f2",
   "metadata": {},
   "outputs": [],
   "source": []
  }
 ],
 "metadata": {
  "kernelspec": {
   "display_name": "Python 3 (ipykernel)",
   "language": "python",
   "name": "python3"
  },
  "language_info": {
   "codemirror_mode": {
    "name": "ipython",
    "version": 3
   },
   "file_extension": ".py",
   "mimetype": "text/x-python",
   "name": "python",
   "nbconvert_exporter": "python",
   "pygments_lexer": "ipython3",
   "version": "3.9.13"
  },
  "toc": {
   "base_numbering": 1,
   "nav_menu": {},
   "number_sections": false,
   "sideBar": true,
   "skip_h1_title": false,
   "title_cell": "Table of Contents",
   "title_sidebar": "Contents",
   "toc_cell": false,
   "toc_position": {
    "height": "calc(100% - 180px)",
    "left": "10px",
    "top": "150px",
    "width": "275.796875px"
   },
   "toc_section_display": true,
   "toc_window_display": false
  }
 },
 "nbformat": 4,
 "nbformat_minor": 5
}
