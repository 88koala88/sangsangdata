{
 "cells": [
  {
   "cell_type": "markdown",
   "id": "f9d61244",
   "metadata": {},
   "source": [
    "### 출처:  도서 <생활 속 예제로 배우는 생생 데이터 분석>  조인석 저\n",
    "\n",
    "\n",
    "# 코로나 바이러스 감염 현황 분석1\n"
   ]
  },
  {
   "cell_type": "markdown",
   "id": "8e11e818",
   "metadata": {},
   "source": [
    "## 데이터 정제 및 가공"
   ]
  },
  {
   "cell_type": "code",
   "execution_count": 2,
   "id": "72abc186",
   "metadata": {},
   "outputs": [],
   "source": [
    "# csv 파일 읽어오기\n",
    "import pandas as pd\n",
    "\n",
    "raw_df = pd.read_csv('../sangsangdata/owid-covid-data.csv')"
   ]
  },
  {
   "cell_type": "code",
   "execution_count": 3,
   "id": "9d9eed6e",
   "metadata": {},
   "outputs": [
    {
     "name": "stdout",
     "output_type": "stream",
     "text": [
      "<class 'pandas.core.frame.DataFrame'>\n",
      "RangeIndex: 192301 entries, 0 to 192300\n",
      "Data columns (total 67 columns):\n",
      " #   Column                                      Non-Null Count   Dtype  \n",
      "---  ------                                      --------------   -----  \n",
      " 0   iso_code                                    192301 non-null  object \n",
      " 1   continent                                   181123 non-null  object \n",
      " 2   location                                    192301 non-null  object \n",
      " 3   date                                        192301 non-null  object \n",
      " 4   total_cases                                 184750 non-null  float64\n",
      " 5   new_cases                                   184508 non-null  float64\n",
      " 6   new_cases_smoothed                          183334 non-null  float64\n",
      " 7   total_deaths                                166260 non-null  float64\n",
      " 8   new_deaths                                  166241 non-null  float64\n",
      " 9   new_deaths_smoothed                         165078 non-null  float64\n",
      " 10  total_cases_per_million                     183898 non-null  float64\n",
      " 11  new_cases_per_million                       183656 non-null  float64\n",
      " 12  new_cases_smoothed_per_million              182487 non-null  float64\n",
      " 13  total_deaths_per_million                    165421 non-null  float64\n",
      " 14  new_deaths_per_million                      165402 non-null  float64\n",
      " 15  new_deaths_smoothed_per_million             164244 non-null  float64\n",
      " 16  reproduction_rate                           143384 non-null  float64\n",
      " 17  icu_patients                                25581 non-null   float64\n",
      " 18  icu_patients_per_million                    25581 non-null   float64\n",
      " 19  hosp_patients                               26818 non-null   float64\n",
      " 20  hosp_patients_per_million                   26818 non-null   float64\n",
      " 21  weekly_icu_admissions                       6252 non-null    float64\n",
      " 22  weekly_icu_admissions_per_million           6252 non-null    float64\n",
      " 23  weekly_hosp_admissions                      12463 non-null   float64\n",
      " 24  weekly_hosp_admissions_per_million          12463 non-null   float64\n",
      " 25  total_tests                                 77796 non-null   float64\n",
      " 26  new_tests                                   74090 non-null   float64\n",
      " 27  total_tests_per_thousand                    77796 non-null   float64\n",
      " 28  new_tests_per_thousand                      74090 non-null   float64\n",
      " 29  new_tests_smoothed                          101500 non-null  float64\n",
      " 30  new_tests_smoothed_per_thousand             101500 non-null  float64\n",
      " 31  positive_rate                               93607 non-null   float64\n",
      " 32  tests_per_case                              91844 non-null   float64\n",
      " 33  tests_units                                 104285 non-null  object \n",
      " 34  total_vaccinations                          52725 non-null   float64\n",
      " 35  people_vaccinated                           50207 non-null   float64\n",
      " 36  people_fully_vaccinated                     47700 non-null   float64\n",
      " 37  total_boosters                              24777 non-null   float64\n",
      " 38  new_vaccinations                            43231 non-null   float64\n",
      " 39  new_vaccinations_smoothed                   104052 non-null  float64\n",
      " 40  total_vaccinations_per_hundred              52725 non-null   float64\n",
      " 41  people_vaccinated_per_hundred               50207 non-null   float64\n",
      " 42  people_fully_vaccinated_per_hundred         47700 non-null   float64\n",
      " 43  total_boosters_per_hundred                  24777 non-null   float64\n",
      " 44  new_vaccinations_smoothed_per_million       104052 non-null  float64\n",
      " 45  new_people_vaccinated_smoothed              102973 non-null  float64\n",
      " 46  new_people_vaccinated_smoothed_per_hundred  102973 non-null  float64\n",
      " 47  stringency_index                            149839 non-null  float64\n",
      " 48  population                                  191132 non-null  float64\n",
      " 49  population_density                          171353 non-null  float64\n",
      " 50  median_age                                  158825 non-null  float64\n",
      " 51  aged_65_older                               157142 non-null  float64\n",
      " 52  aged_70_older                               157992 non-null  float64\n",
      " 53  gdp_per_capita                              157971 non-null  float64\n",
      " 54  extreme_poverty                             103125 non-null  float64\n",
      " 55  cardiovasc_death_rate                       158461 non-null  float64\n",
      " 56  diabetes_prevalence                         166210 non-null  float64\n",
      " 57  female_smokers                              119852 non-null  float64\n",
      " 58  male_smokers                                118209 non-null  float64\n",
      " 59  handwashing_facilities                      77857 non-null   float64\n",
      " 60  hospital_beds_per_thousand                  140598 non-null  float64\n",
      " 61  life_expectancy                             179837 non-null  float64\n",
      " 62  human_development_index                     154377 non-null  float64\n",
      " 63  excess_mortality_cumulative_absolute        6553 non-null    float64\n",
      " 64  excess_mortality_cumulative                 6553 non-null    float64\n",
      " 65  excess_mortality                            6553 non-null    float64\n",
      " 66  excess_mortality_cumulative_per_million     6553 non-null    float64\n",
      "dtypes: float64(62), object(5)\n",
      "memory usage: 98.3+ MB\n"
     ]
    }
   ],
   "source": [
    "# 원천 데이터 데이터 프레임 정보 확인\n",
    "raw_df.info()"
   ]
  },
  {
   "cell_type": "code",
   "execution_count": 4,
   "id": "393b1109",
   "metadata": {},
   "outputs": [
    {
     "data": {
      "text/html": [
       "<div>\n",
       "<style scoped>\n",
       "    .dataframe tbody tr th:only-of-type {\n",
       "        vertical-align: middle;\n",
       "    }\n",
       "\n",
       "    .dataframe tbody tr th {\n",
       "        vertical-align: top;\n",
       "    }\n",
       "\n",
       "    .dataframe thead th {\n",
       "        text-align: right;\n",
       "    }\n",
       "</style>\n",
       "<table border=\"1\" class=\"dataframe\">\n",
       "  <thead>\n",
       "    <tr style=\"text-align: right;\">\n",
       "      <th></th>\n",
       "      <th>iso_code</th>\n",
       "      <th>continent</th>\n",
       "      <th>location</th>\n",
       "      <th>date</th>\n",
       "      <th>total_cases</th>\n",
       "      <th>new_cases</th>\n",
       "      <th>new_cases_smoothed</th>\n",
       "      <th>total_deaths</th>\n",
       "      <th>new_deaths</th>\n",
       "      <th>new_deaths_smoothed</th>\n",
       "      <th>...</th>\n",
       "      <th>female_smokers</th>\n",
       "      <th>male_smokers</th>\n",
       "      <th>handwashing_facilities</th>\n",
       "      <th>hospital_beds_per_thousand</th>\n",
       "      <th>life_expectancy</th>\n",
       "      <th>human_development_index</th>\n",
       "      <th>excess_mortality_cumulative_absolute</th>\n",
       "      <th>excess_mortality_cumulative</th>\n",
       "      <th>excess_mortality</th>\n",
       "      <th>excess_mortality_cumulative_per_million</th>\n",
       "    </tr>\n",
       "  </thead>\n",
       "  <tbody>\n",
       "    <tr>\n",
       "      <th>0</th>\n",
       "      <td>AFG</td>\n",
       "      <td>Asia</td>\n",
       "      <td>Afghanistan</td>\n",
       "      <td>2020-02-24</td>\n",
       "      <td>5.0</td>\n",
       "      <td>5.0</td>\n",
       "      <td>NaN</td>\n",
       "      <td>NaN</td>\n",
       "      <td>NaN</td>\n",
       "      <td>NaN</td>\n",
       "      <td>...</td>\n",
       "      <td>NaN</td>\n",
       "      <td>NaN</td>\n",
       "      <td>37.746</td>\n",
       "      <td>0.5</td>\n",
       "      <td>64.83</td>\n",
       "      <td>0.511</td>\n",
       "      <td>NaN</td>\n",
       "      <td>NaN</td>\n",
       "      <td>NaN</td>\n",
       "      <td>NaN</td>\n",
       "    </tr>\n",
       "    <tr>\n",
       "      <th>1</th>\n",
       "      <td>AFG</td>\n",
       "      <td>Asia</td>\n",
       "      <td>Afghanistan</td>\n",
       "      <td>2020-02-25</td>\n",
       "      <td>5.0</td>\n",
       "      <td>0.0</td>\n",
       "      <td>NaN</td>\n",
       "      <td>NaN</td>\n",
       "      <td>NaN</td>\n",
       "      <td>NaN</td>\n",
       "      <td>...</td>\n",
       "      <td>NaN</td>\n",
       "      <td>NaN</td>\n",
       "      <td>37.746</td>\n",
       "      <td>0.5</td>\n",
       "      <td>64.83</td>\n",
       "      <td>0.511</td>\n",
       "      <td>NaN</td>\n",
       "      <td>NaN</td>\n",
       "      <td>NaN</td>\n",
       "      <td>NaN</td>\n",
       "    </tr>\n",
       "    <tr>\n",
       "      <th>2</th>\n",
       "      <td>AFG</td>\n",
       "      <td>Asia</td>\n",
       "      <td>Afghanistan</td>\n",
       "      <td>2020-02-26</td>\n",
       "      <td>5.0</td>\n",
       "      <td>0.0</td>\n",
       "      <td>NaN</td>\n",
       "      <td>NaN</td>\n",
       "      <td>NaN</td>\n",
       "      <td>NaN</td>\n",
       "      <td>...</td>\n",
       "      <td>NaN</td>\n",
       "      <td>NaN</td>\n",
       "      <td>37.746</td>\n",
       "      <td>0.5</td>\n",
       "      <td>64.83</td>\n",
       "      <td>0.511</td>\n",
       "      <td>NaN</td>\n",
       "      <td>NaN</td>\n",
       "      <td>NaN</td>\n",
       "      <td>NaN</td>\n",
       "    </tr>\n",
       "    <tr>\n",
       "      <th>3</th>\n",
       "      <td>AFG</td>\n",
       "      <td>Asia</td>\n",
       "      <td>Afghanistan</td>\n",
       "      <td>2020-02-27</td>\n",
       "      <td>5.0</td>\n",
       "      <td>0.0</td>\n",
       "      <td>NaN</td>\n",
       "      <td>NaN</td>\n",
       "      <td>NaN</td>\n",
       "      <td>NaN</td>\n",
       "      <td>...</td>\n",
       "      <td>NaN</td>\n",
       "      <td>NaN</td>\n",
       "      <td>37.746</td>\n",
       "      <td>0.5</td>\n",
       "      <td>64.83</td>\n",
       "      <td>0.511</td>\n",
       "      <td>NaN</td>\n",
       "      <td>NaN</td>\n",
       "      <td>NaN</td>\n",
       "      <td>NaN</td>\n",
       "    </tr>\n",
       "    <tr>\n",
       "      <th>4</th>\n",
       "      <td>AFG</td>\n",
       "      <td>Asia</td>\n",
       "      <td>Afghanistan</td>\n",
       "      <td>2020-02-28</td>\n",
       "      <td>5.0</td>\n",
       "      <td>0.0</td>\n",
       "      <td>NaN</td>\n",
       "      <td>NaN</td>\n",
       "      <td>NaN</td>\n",
       "      <td>NaN</td>\n",
       "      <td>...</td>\n",
       "      <td>NaN</td>\n",
       "      <td>NaN</td>\n",
       "      <td>37.746</td>\n",
       "      <td>0.5</td>\n",
       "      <td>64.83</td>\n",
       "      <td>0.511</td>\n",
       "      <td>NaN</td>\n",
       "      <td>NaN</td>\n",
       "      <td>NaN</td>\n",
       "      <td>NaN</td>\n",
       "    </tr>\n",
       "  </tbody>\n",
       "</table>\n",
       "<p>5 rows × 67 columns</p>\n",
       "</div>"
      ],
      "text/plain": [
       "  iso_code continent     location        date  total_cases  new_cases  \\\n",
       "0      AFG      Asia  Afghanistan  2020-02-24          5.0        5.0   \n",
       "1      AFG      Asia  Afghanistan  2020-02-25          5.0        0.0   \n",
       "2      AFG      Asia  Afghanistan  2020-02-26          5.0        0.0   \n",
       "3      AFG      Asia  Afghanistan  2020-02-27          5.0        0.0   \n",
       "4      AFG      Asia  Afghanistan  2020-02-28          5.0        0.0   \n",
       "\n",
       "   new_cases_smoothed  total_deaths  new_deaths  new_deaths_smoothed  ...  \\\n",
       "0                 NaN           NaN         NaN                  NaN  ...   \n",
       "1                 NaN           NaN         NaN                  NaN  ...   \n",
       "2                 NaN           NaN         NaN                  NaN  ...   \n",
       "3                 NaN           NaN         NaN                  NaN  ...   \n",
       "4                 NaN           NaN         NaN                  NaN  ...   \n",
       "\n",
       "   female_smokers  male_smokers  handwashing_facilities  \\\n",
       "0             NaN           NaN                  37.746   \n",
       "1             NaN           NaN                  37.746   \n",
       "2             NaN           NaN                  37.746   \n",
       "3             NaN           NaN                  37.746   \n",
       "4             NaN           NaN                  37.746   \n",
       "\n",
       "   hospital_beds_per_thousand  life_expectancy  human_development_index  \\\n",
       "0                         0.5            64.83                    0.511   \n",
       "1                         0.5            64.83                    0.511   \n",
       "2                         0.5            64.83                    0.511   \n",
       "3                         0.5            64.83                    0.511   \n",
       "4                         0.5            64.83                    0.511   \n",
       "\n",
       "   excess_mortality_cumulative_absolute  excess_mortality_cumulative  \\\n",
       "0                                   NaN                          NaN   \n",
       "1                                   NaN                          NaN   \n",
       "2                                   NaN                          NaN   \n",
       "3                                   NaN                          NaN   \n",
       "4                                   NaN                          NaN   \n",
       "\n",
       "   excess_mortality  excess_mortality_cumulative_per_million  \n",
       "0               NaN                                      NaN  \n",
       "1               NaN                                      NaN  \n",
       "2               NaN                                      NaN  \n",
       "3               NaN                                      NaN  \n",
       "4               NaN                                      NaN  \n",
       "\n",
       "[5 rows x 67 columns]"
      ]
     },
     "execution_count": 4,
     "metadata": {},
     "output_type": "execute_result"
    }
   ],
   "source": [
    "# 원천 데이터의 상위 5개 레코드 확인\n",
    "raw_df.head()"
   ]
  },
  {
   "cell_type": "code",
   "execution_count": 5,
   "id": "de80e29c",
   "metadata": {},
   "outputs": [
    {
     "data": {
      "text/html": [
       "<div>\n",
       "<style scoped>\n",
       "    .dataframe tbody tr th:only-of-type {\n",
       "        vertical-align: middle;\n",
       "    }\n",
       "\n",
       "    .dataframe tbody tr th {\n",
       "        vertical-align: top;\n",
       "    }\n",
       "\n",
       "    .dataframe thead th {\n",
       "        text-align: right;\n",
       "    }\n",
       "</style>\n",
       "<table border=\"1\" class=\"dataframe\">\n",
       "  <thead>\n",
       "    <tr style=\"text-align: right;\">\n",
       "      <th></th>\n",
       "      <th>iso_code</th>\n",
       "      <th>location</th>\n",
       "      <th>date</th>\n",
       "      <th>total_cases</th>\n",
       "      <th>population</th>\n",
       "    </tr>\n",
       "  </thead>\n",
       "  <tbody>\n",
       "    <tr>\n",
       "      <th>0</th>\n",
       "      <td>AFG</td>\n",
       "      <td>Afghanistan</td>\n",
       "      <td>2020-02-24</td>\n",
       "      <td>5.0</td>\n",
       "      <td>39835428.0</td>\n",
       "    </tr>\n",
       "    <tr>\n",
       "      <th>1</th>\n",
       "      <td>AFG</td>\n",
       "      <td>Afghanistan</td>\n",
       "      <td>2020-02-25</td>\n",
       "      <td>5.0</td>\n",
       "      <td>39835428.0</td>\n",
       "    </tr>\n",
       "    <tr>\n",
       "      <th>2</th>\n",
       "      <td>AFG</td>\n",
       "      <td>Afghanistan</td>\n",
       "      <td>2020-02-26</td>\n",
       "      <td>5.0</td>\n",
       "      <td>39835428.0</td>\n",
       "    </tr>\n",
       "    <tr>\n",
       "      <th>3</th>\n",
       "      <td>AFG</td>\n",
       "      <td>Afghanistan</td>\n",
       "      <td>2020-02-27</td>\n",
       "      <td>5.0</td>\n",
       "      <td>39835428.0</td>\n",
       "    </tr>\n",
       "    <tr>\n",
       "      <th>4</th>\n",
       "      <td>AFG</td>\n",
       "      <td>Afghanistan</td>\n",
       "      <td>2020-02-28</td>\n",
       "      <td>5.0</td>\n",
       "      <td>39835428.0</td>\n",
       "    </tr>\n",
       "  </tbody>\n",
       "</table>\n",
       "</div>"
      ],
      "text/plain": [
       "  iso_code     location        date  total_cases  population\n",
       "0      AFG  Afghanistan  2020-02-24          5.0  39835428.0\n",
       "1      AFG  Afghanistan  2020-02-25          5.0  39835428.0\n",
       "2      AFG  Afghanistan  2020-02-26          5.0  39835428.0\n",
       "3      AFG  Afghanistan  2020-02-27          5.0  39835428.0\n",
       "4      AFG  Afghanistan  2020-02-28          5.0  39835428.0"
      ]
     },
     "execution_count": 5,
     "metadata": {},
     "output_type": "execute_result"
    }
   ],
   "source": [
    "# 원하는 열 리스트 만들기\n",
    "selected_columns = ['iso_code', 'location', 'date', 'total_cases', 'population']\n",
    "\n",
    "# 원하는 열로 개정된 데이터 프레임 생성\n",
    "revised_df = raw_df[selected_columns]\n",
    "\n",
    "# 개정된 데이터 프레임 데이터 일부 확인하기\n",
    "revised_df.head()"
   ]
  },
  {
   "cell_type": "code",
   "execution_count": 6,
   "id": "212eea2b",
   "metadata": {},
   "outputs": [
    {
     "data": {
      "text/plain": [
       "0         Afghanistan\n",
       "1         Afghanistan\n",
       "2         Afghanistan\n",
       "3         Afghanistan\n",
       "4         Afghanistan\n",
       "             ...     \n",
       "192296       Zimbabwe\n",
       "192297       Zimbabwe\n",
       "192298       Zimbabwe\n",
       "192299       Zimbabwe\n",
       "192300       Zimbabwe\n",
       "Name: location, Length: 192301, dtype: object"
      ]
     },
     "execution_count": 6,
     "metadata": {},
     "output_type": "execute_result"
    }
   ],
   "source": [
    "# 열 location 값 확인하기\n",
    "location = revised_df['location']\n",
    "location"
   ]
  },
  {
   "cell_type": "code",
   "execution_count": 7,
   "id": "2c7f6760",
   "metadata": {},
   "outputs": [
    {
     "data": {
      "text/plain": [
       "array(['Afghanistan', 'Africa', 'Albania', 'Algeria', 'Andorra', 'Angola',\n",
       "       'Anguilla', 'Antigua and Barbuda', 'Argentina', 'Armenia', 'Aruba',\n",
       "       'Asia', 'Australia', 'Austria', 'Azerbaijan', 'Bahamas', 'Bahrain',\n",
       "       'Bangladesh', 'Barbados', 'Belarus', 'Belgium', 'Belize', 'Benin',\n",
       "       'Bermuda', 'Bhutan', 'Bolivia', 'Bonaire Sint Eustatius and Saba',\n",
       "       'Bosnia and Herzegovina', 'Botswana', 'Brazil',\n",
       "       'British Virgin Islands', 'Brunei', 'Bulgaria', 'Burkina Faso',\n",
       "       'Burundi', 'Cambodia', 'Cameroon', 'Canada', 'Cape Verde',\n",
       "       'Cayman Islands', 'Central African Republic', 'Chad', 'Chile',\n",
       "       'China', 'Colombia', 'Comoros', 'Congo', 'Cook Islands',\n",
       "       'Costa Rica', \"Cote d'Ivoire\", 'Croatia', 'Cuba', 'Curacao',\n",
       "       'Cyprus', 'Czechia', 'Democratic Republic of Congo', 'Denmark',\n",
       "       'Djibouti', 'Dominica', 'Dominican Republic', 'Ecuador', 'Egypt',\n",
       "       'El Salvador', 'Equatorial Guinea', 'Eritrea', 'Estonia',\n",
       "       'Eswatini', 'Ethiopia', 'Europe', 'European Union',\n",
       "       'Faeroe Islands', 'Falkland Islands', 'Fiji', 'Finland', 'France',\n",
       "       'French Polynesia', 'Gabon', 'Gambia', 'Georgia', 'Germany',\n",
       "       'Ghana', 'Gibraltar', 'Greece', 'Greenland', 'Grenada', 'Guam',\n",
       "       'Guatemala', 'Guernsey', 'Guinea', 'Guinea-Bissau', 'Guyana',\n",
       "       'Haiti', 'High income', 'Honduras', 'Hong Kong', 'Hungary',\n",
       "       'Iceland', 'India', 'Indonesia', 'International', 'Iran', 'Iraq',\n",
       "       'Ireland', 'Isle of Man', 'Israel', 'Italy', 'Jamaica', 'Japan',\n",
       "       'Jersey', 'Jordan', 'Kazakhstan', 'Kenya', 'Kiribati', 'Kosovo',\n",
       "       'Kuwait', 'Kyrgyzstan', 'Laos', 'Latvia', 'Lebanon', 'Lesotho',\n",
       "       'Liberia', 'Libya', 'Liechtenstein', 'Lithuania', 'Low income',\n",
       "       'Lower middle income', 'Luxembourg', 'Macao', 'Madagascar',\n",
       "       'Malawi', 'Malaysia', 'Maldives', 'Mali', 'Malta',\n",
       "       'Marshall Islands', 'Mauritania', 'Mauritius', 'Mexico',\n",
       "       'Micronesia (country)', 'Moldova', 'Monaco', 'Mongolia',\n",
       "       'Montenegro', 'Montserrat', 'Morocco', 'Mozambique', 'Myanmar',\n",
       "       'Namibia', 'Nauru', 'Nepal', 'Netherlands', 'New Caledonia',\n",
       "       'New Zealand', 'Nicaragua', 'Niger', 'Nigeria', 'Niue',\n",
       "       'North America', 'North Korea', 'North Macedonia',\n",
       "       'Northern Cyprus', 'Northern Mariana Islands', 'Norway', 'Oceania',\n",
       "       'Oman', 'Pakistan', 'Palau', 'Palestine', 'Panama',\n",
       "       'Papua New Guinea', 'Paraguay', 'Peru', 'Philippines', 'Pitcairn',\n",
       "       'Poland', 'Portugal', 'Puerto Rico', 'Qatar', 'Romania', 'Russia',\n",
       "       'Rwanda', 'Saint Helena', 'Saint Kitts and Nevis', 'Saint Lucia',\n",
       "       'Saint Pierre and Miquelon', 'Saint Vincent and the Grenadines',\n",
       "       'Samoa', 'San Marino', 'Sao Tome and Principe', 'Saudi Arabia',\n",
       "       'Senegal', 'Serbia', 'Seychelles', 'Sierra Leone', 'Singapore',\n",
       "       'Sint Maarten (Dutch part)', 'Slovakia', 'Slovenia',\n",
       "       'Solomon Islands', 'Somalia', 'South Africa', 'South America',\n",
       "       'South Korea', 'South Sudan', 'Spain', 'Sri Lanka', 'Sudan',\n",
       "       'Suriname', 'Sweden', 'Switzerland', 'Syria', 'Taiwan',\n",
       "       'Tajikistan', 'Tanzania', 'Thailand', 'Timor', 'Togo', 'Tokelau',\n",
       "       'Tonga', 'Trinidad and Tobago', 'Tunisia', 'Turkey',\n",
       "       'Turkmenistan', 'Turks and Caicos Islands', 'Tuvalu', 'Uganda',\n",
       "       'Ukraine', 'United Arab Emirates', 'United Kingdom',\n",
       "       'United States', 'United States Virgin Islands',\n",
       "       'Upper middle income', 'Uruguay', 'Uzbekistan', 'Vanuatu',\n",
       "       'Vatican', 'Venezuela', 'Vietnam', 'Wallis and Futuna',\n",
       "       'Western Sahara', 'World', 'Yemen', 'Zambia', 'Zimbabwe'],\n",
       "      dtype=object)"
      ]
     },
     "execution_count": 7,
     "metadata": {},
     "output_type": "execute_result"
    }
   ],
   "source": [
    "# location 열의 유일값 확인하기\n",
    "location.unique()"
   ]
  },
  {
   "cell_type": "code",
   "execution_count": 8,
   "id": "0f0c0a75",
   "metadata": {},
   "outputs": [
    {
     "data": {
      "text/html": [
       "<div>\n",
       "<style scoped>\n",
       "    .dataframe tbody tr th:only-of-type {\n",
       "        vertical-align: middle;\n",
       "    }\n",
       "\n",
       "    .dataframe tbody tr th {\n",
       "        vertical-align: top;\n",
       "    }\n",
       "\n",
       "    .dataframe thead th {\n",
       "        text-align: right;\n",
       "    }\n",
       "</style>\n",
       "<table border=\"1\" class=\"dataframe\">\n",
       "  <thead>\n",
       "    <tr style=\"text-align: right;\">\n",
       "      <th></th>\n",
       "      <th>iso_code</th>\n",
       "      <th>location</th>\n",
       "      <th>date</th>\n",
       "      <th>total_cases</th>\n",
       "      <th>population</th>\n",
       "    </tr>\n",
       "  </thead>\n",
       "  <tbody>\n",
       "    <tr>\n",
       "      <th>160818</th>\n",
       "      <td>KOR</td>\n",
       "      <td>South Korea</td>\n",
       "      <td>2020-01-22</td>\n",
       "      <td>1.0</td>\n",
       "      <td>51305184.0</td>\n",
       "    </tr>\n",
       "    <tr>\n",
       "      <th>160819</th>\n",
       "      <td>KOR</td>\n",
       "      <td>South Korea</td>\n",
       "      <td>2020-01-23</td>\n",
       "      <td>1.0</td>\n",
       "      <td>51305184.0</td>\n",
       "    </tr>\n",
       "    <tr>\n",
       "      <th>160820</th>\n",
       "      <td>KOR</td>\n",
       "      <td>South Korea</td>\n",
       "      <td>2020-01-24</td>\n",
       "      <td>2.0</td>\n",
       "      <td>51305184.0</td>\n",
       "    </tr>\n",
       "    <tr>\n",
       "      <th>160821</th>\n",
       "      <td>KOR</td>\n",
       "      <td>South Korea</td>\n",
       "      <td>2020-01-25</td>\n",
       "      <td>2.0</td>\n",
       "      <td>51305184.0</td>\n",
       "    </tr>\n",
       "    <tr>\n",
       "      <th>160822</th>\n",
       "      <td>KOR</td>\n",
       "      <td>South Korea</td>\n",
       "      <td>2020-01-26</td>\n",
       "      <td>3.0</td>\n",
       "      <td>51305184.0</td>\n",
       "    </tr>\n",
       "  </tbody>\n",
       "</table>\n",
       "</div>"
      ],
      "text/plain": [
       "       iso_code     location        date  total_cases  population\n",
       "160818      KOR  South Korea  2020-01-22          1.0  51305184.0\n",
       "160819      KOR  South Korea  2020-01-23          1.0  51305184.0\n",
       "160820      KOR  South Korea  2020-01-24          2.0  51305184.0\n",
       "160821      KOR  South Korea  2020-01-25          2.0  51305184.0\n",
       "160822      KOR  South Korea  2020-01-26          3.0  51305184.0"
      ]
     },
     "execution_count": 8,
     "metadata": {},
     "output_type": "execute_result"
    }
   ],
   "source": [
    "# 대한민국 데이터 프레임 생성하기\n",
    "kor_df = revised_df[revised_df.location == 'South Korea']\n",
    "\n",
    "# 데이터 일부 확인하기\n",
    "kor_df.head()"
   ]
  },
  {
   "cell_type": "code",
   "execution_count": 9,
   "id": "c42e75cc",
   "metadata": {},
   "outputs": [
    {
     "data": {
      "text/html": [
       "<div>\n",
       "<style scoped>\n",
       "    .dataframe tbody tr th:only-of-type {\n",
       "        vertical-align: middle;\n",
       "    }\n",
       "\n",
       "    .dataframe tbody tr th {\n",
       "        vertical-align: top;\n",
       "    }\n",
       "\n",
       "    .dataframe thead th {\n",
       "        text-align: right;\n",
       "    }\n",
       "</style>\n",
       "<table border=\"1\" class=\"dataframe\">\n",
       "  <thead>\n",
       "    <tr style=\"text-align: right;\">\n",
       "      <th></th>\n",
       "      <th>iso_code</th>\n",
       "      <th>location</th>\n",
       "      <th>total_cases</th>\n",
       "      <th>population</th>\n",
       "    </tr>\n",
       "    <tr>\n",
       "      <th>date</th>\n",
       "      <th></th>\n",
       "      <th></th>\n",
       "      <th></th>\n",
       "      <th></th>\n",
       "    </tr>\n",
       "  </thead>\n",
       "  <tbody>\n",
       "    <tr>\n",
       "      <th>2020-01-22</th>\n",
       "      <td>KOR</td>\n",
       "      <td>South Korea</td>\n",
       "      <td>1.0</td>\n",
       "      <td>51305184.0</td>\n",
       "    </tr>\n",
       "    <tr>\n",
       "      <th>2020-01-23</th>\n",
       "      <td>KOR</td>\n",
       "      <td>South Korea</td>\n",
       "      <td>1.0</td>\n",
       "      <td>51305184.0</td>\n",
       "    </tr>\n",
       "    <tr>\n",
       "      <th>2020-01-24</th>\n",
       "      <td>KOR</td>\n",
       "      <td>South Korea</td>\n",
       "      <td>2.0</td>\n",
       "      <td>51305184.0</td>\n",
       "    </tr>\n",
       "    <tr>\n",
       "      <th>2020-01-25</th>\n",
       "      <td>KOR</td>\n",
       "      <td>South Korea</td>\n",
       "      <td>2.0</td>\n",
       "      <td>51305184.0</td>\n",
       "    </tr>\n",
       "    <tr>\n",
       "      <th>2020-01-26</th>\n",
       "      <td>KOR</td>\n",
       "      <td>South Korea</td>\n",
       "      <td>3.0</td>\n",
       "      <td>51305184.0</td>\n",
       "    </tr>\n",
       "  </tbody>\n",
       "</table>\n",
       "</div>"
      ],
      "text/plain": [
       "           iso_code     location  total_cases  population\n",
       "date                                                     \n",
       "2020-01-22      KOR  South Korea          1.0  51305184.0\n",
       "2020-01-23      KOR  South Korea          1.0  51305184.0\n",
       "2020-01-24      KOR  South Korea          2.0  51305184.0\n",
       "2020-01-25      KOR  South Korea          2.0  51305184.0\n",
       "2020-01-26      KOR  South Korea          3.0  51305184.0"
      ]
     },
     "execution_count": 9,
     "metadata": {},
     "output_type": "execute_result"
    }
   ],
   "source": [
    "# 색인 변경하기\n",
    "kor_date_index_df = kor_df.set_index('date')\n",
    "\n",
    "# 데이터 일부 확인하기\n",
    "kor_date_index_df.head()"
   ]
  },
  {
   "cell_type": "code",
   "execution_count": 11,
   "id": "de657ec0",
   "metadata": {},
   "outputs": [
    {
     "data": {
      "text/html": [
       "<div>\n",
       "<style scoped>\n",
       "    .dataframe tbody tr th:only-of-type {\n",
       "        vertical-align: middle;\n",
       "    }\n",
       "\n",
       "    .dataframe tbody tr th {\n",
       "        vertical-align: top;\n",
       "    }\n",
       "\n",
       "    .dataframe thead th {\n",
       "        text-align: right;\n",
       "    }\n",
       "</style>\n",
       "<table border=\"1\" class=\"dataframe\">\n",
       "  <thead>\n",
       "    <tr style=\"text-align: right;\">\n",
       "      <th></th>\n",
       "      <th>iso_code</th>\n",
       "      <th>location</th>\n",
       "      <th>total_cases</th>\n",
       "      <th>population</th>\n",
       "    </tr>\n",
       "    <tr>\n",
       "      <th>date</th>\n",
       "      <th></th>\n",
       "      <th></th>\n",
       "      <th></th>\n",
       "      <th></th>\n",
       "    </tr>\n",
       "  </thead>\n",
       "  <tbody>\n",
       "    <tr>\n",
       "      <th>2020-01-22</th>\n",
       "      <td>USA</td>\n",
       "      <td>United States</td>\n",
       "      <td>1.0</td>\n",
       "      <td>332915074.0</td>\n",
       "    </tr>\n",
       "    <tr>\n",
       "      <th>2020-01-23</th>\n",
       "      <td>USA</td>\n",
       "      <td>United States</td>\n",
       "      <td>1.0</td>\n",
       "      <td>332915074.0</td>\n",
       "    </tr>\n",
       "    <tr>\n",
       "      <th>2020-01-24</th>\n",
       "      <td>USA</td>\n",
       "      <td>United States</td>\n",
       "      <td>2.0</td>\n",
       "      <td>332915074.0</td>\n",
       "    </tr>\n",
       "    <tr>\n",
       "      <th>2020-01-25</th>\n",
       "      <td>USA</td>\n",
       "      <td>United States</td>\n",
       "      <td>2.0</td>\n",
       "      <td>332915074.0</td>\n",
       "    </tr>\n",
       "    <tr>\n",
       "      <th>2020-01-26</th>\n",
       "      <td>USA</td>\n",
       "      <td>United States</td>\n",
       "      <td>5.0</td>\n",
       "      <td>332915074.0</td>\n",
       "    </tr>\n",
       "  </tbody>\n",
       "</table>\n",
       "</div>"
      ],
      "text/plain": [
       "           iso_code       location  total_cases   population\n",
       "date                                                        \n",
       "2020-01-22      USA  United States          1.0  332915074.0\n",
       "2020-01-23      USA  United States          1.0  332915074.0\n",
       "2020-01-24      USA  United States          2.0  332915074.0\n",
       "2020-01-25      USA  United States          2.0  332915074.0\n",
       "2020-01-26      USA  United States          5.0  332915074.0"
      ]
     },
     "execution_count": 11,
     "metadata": {},
     "output_type": "execute_result"
    }
   ],
   "source": [
    "# 미국 데이터 프레임 생성하기\n",
    "usa_df = revised_df[revised_df.location == 'United States']\n",
    "\n",
    "# 색인 변경하기\n",
    "usa_date_index_df = usa_df.set_index('date')\n",
    "\n",
    "usa_date_index_df.head()"
   ]
  },
  {
   "cell_type": "markdown",
   "id": "d8999739",
   "metadata": {},
   "source": [
    "## 데이터 시각화"
   ]
  },
  {
   "cell_type": "code",
   "execution_count": 12,
   "id": "9a557294",
   "metadata": {},
   "outputs": [
    {
     "data": {
      "text/plain": [
       "date\n",
       "2020-01-22           1.0\n",
       "2020-01-23           1.0\n",
       "2020-01-24           2.0\n",
       "2020-01-25           2.0\n",
       "2020-01-26           3.0\n",
       "                 ...    \n",
       "2022-06-03    18153851.0\n",
       "2022-06-04    18163686.0\n",
       "2022-06-05    18168708.0\n",
       "2022-06-06    18174880.0\n",
       "2022-06-07    18188200.0\n",
       "Name: total_cases, Length: 868, dtype: float64"
      ]
     },
     "execution_count": 12,
     "metadata": {},
     "output_type": "execute_result"
    }
   ],
   "source": [
    "# 대한민국 확진자 수 구하기\n",
    "kor_total_cases = kor_date_index_df['total_cases']\n",
    "kor_total_cases"
   ]
  },
  {
   "cell_type": "code",
   "execution_count": 14,
   "id": "0642f119",
   "metadata": {},
   "outputs": [
    {
     "data": {
      "text/plain": [
       "date\n",
       "2020-01-22           1.0\n",
       "2020-01-23           1.0\n",
       "2020-01-24           2.0\n",
       "2020-01-25           2.0\n",
       "2020-01-26           5.0\n",
       "                 ...    \n",
       "2022-06-03    84724329.0\n",
       "2022-06-04    84748884.0\n",
       "2022-06-05    84762022.0\n",
       "2022-06-06    84882287.0\n",
       "2022-06-07    85003945.0\n",
       "Name: total_cases, Length: 868, dtype: float64"
      ]
     },
     "execution_count": 14,
     "metadata": {},
     "output_type": "execute_result"
    }
   ],
   "source": [
    "# 미국 확진자 수 구하기\n",
    "usa_total_cases = usa_date_index_df['total_cases']\n",
    "usa_total_cases"
   ]
  },
  {
   "cell_type": "code",
   "execution_count": 16,
   "id": "d0d73448",
   "metadata": {},
   "outputs": [
    {
     "data": {
      "text/plain": [
       "Index(['2020-01-22', '2020-01-23', '2020-01-24', '2020-01-25', '2020-01-26',\n",
       "       '2020-01-27', '2020-01-28', '2020-01-29', '2020-01-30', '2020-01-31',\n",
       "       ...\n",
       "       '2022-05-29', '2022-05-30', '2022-05-31', '2022-06-01', '2022-06-02',\n",
       "       '2022-06-03', '2022-06-04', '2022-06-05', '2022-06-06', '2022-06-07'],\n",
       "      dtype='object', name='date', length=868)"
      ]
     },
     "execution_count": 16,
     "metadata": {},
     "output_type": "execute_result"
    }
   ],
   "source": [
    "# 색인 확인하기\n",
    "kor_date_index_df.index"
   ]
  },
  {
   "cell_type": "code",
   "execution_count": 17,
   "id": "d463527d",
   "metadata": {},
   "outputs": [
    {
     "data": {
      "text/html": [
       "<div>\n",
       "<style scoped>\n",
       "    .dataframe tbody tr th:only-of-type {\n",
       "        vertical-align: middle;\n",
       "    }\n",
       "\n",
       "    .dataframe tbody tr th {\n",
       "        vertical-align: top;\n",
       "    }\n",
       "\n",
       "    .dataframe thead th {\n",
       "        text-align: right;\n",
       "    }\n",
       "</style>\n",
       "<table border=\"1\" class=\"dataframe\">\n",
       "  <thead>\n",
       "    <tr style=\"text-align: right;\">\n",
       "      <th></th>\n",
       "      <th>KOR</th>\n",
       "      <th>USA</th>\n",
       "    </tr>\n",
       "    <tr>\n",
       "      <th>date</th>\n",
       "      <th></th>\n",
       "      <th></th>\n",
       "    </tr>\n",
       "  </thead>\n",
       "  <tbody>\n",
       "    <tr>\n",
       "      <th>2020-01-22</th>\n",
       "      <td>1.0</td>\n",
       "      <td>1.0</td>\n",
       "    </tr>\n",
       "    <tr>\n",
       "      <th>2020-01-23</th>\n",
       "      <td>1.0</td>\n",
       "      <td>1.0</td>\n",
       "    </tr>\n",
       "    <tr>\n",
       "      <th>2020-01-24</th>\n",
       "      <td>2.0</td>\n",
       "      <td>2.0</td>\n",
       "    </tr>\n",
       "    <tr>\n",
       "      <th>2020-01-25</th>\n",
       "      <td>2.0</td>\n",
       "      <td>2.0</td>\n",
       "    </tr>\n",
       "    <tr>\n",
       "      <th>2020-01-26</th>\n",
       "      <td>3.0</td>\n",
       "      <td>5.0</td>\n",
       "    </tr>\n",
       "  </tbody>\n",
       "</table>\n",
       "</div>"
      ],
      "text/plain": [
       "            KOR  USA\n",
       "date                \n",
       "2020-01-22  1.0  1.0\n",
       "2020-01-23  1.0  1.0\n",
       "2020-01-24  2.0  2.0\n",
       "2020-01-25  2.0  2.0\n",
       "2020-01-26  3.0  5.0"
      ]
     },
     "execution_count": 17,
     "metadata": {},
     "output_type": "execute_result"
    }
   ],
   "source": [
    "# 시각화용 데이터프레임 생성\n",
    "final_df = pd.DataFrame({\n",
    "    'KOR':kor_total_cases,\n",
    "    'USA':usa_total_cases\n",
    "    }, index=kor_date_index_df.index\n",
    "\n",
    ")\n",
    "\n",
    "final_df.head()"
   ]
  },
  {
   "cell_type": "code",
   "execution_count": 18,
   "id": "9e788a69",
   "metadata": {},
   "outputs": [
    {
     "data": {
      "text/plain": [
       "<AxesSubplot:xlabel='date'>"
      ]
     },
     "execution_count": 18,
     "metadata": {},
     "output_type": "execute_result"
    },
    {
     "data": {
      "image/png": "[encoded data removed]",
      "text/plain": [
       "<Figure size 640x480 with 1 Axes>"
      ]
     },
     "metadata": {},
     "output_type": "display_data"
    }
   ],
   "source": [
    "# 선 그래프 그리기\n",
    "final_df.plot.line()"
   ]
  },
  {
   "cell_type": "code",
   "execution_count": 19,
   "id": "89eeb384",
   "metadata": {},
   "outputs": [
    {
     "data": {
      "text/plain": [
       "<AxesSubplot:xlabel='date'>"
      ]
     },
     "execution_count": 19,
     "metadata": {},
     "output_type": "execute_result"
    },
    {
     "data": {
      "image/png": "[encoded data removed]",
      "text/plain": [
       "<Figure size 640x480 with 1 Axes>"
      ]
     },
     "metadata": {},
     "output_type": "display_data"
    }
   ],
   "source": [
    "# 2022년 그래프 그리기 (6월까지)\n",
    "final_df['2022-01-01':].plot.line()"
   ]
  },
  {
   "cell_type": "code",
   "execution_count": 20,
   "id": "1287bc40",
   "metadata": {},
   "outputs": [
    {
     "data": {
      "text/plain": [
       "<AxesSubplot:xlabel='date'>"
      ]
     },
     "execution_count": 20,
     "metadata": {},
     "output_type": "execute_result"
    },
    {
     "data": {
      "image/png": "[encoded data removed]",
      "text/plain": [
       "<Figure size 640x480 with 1 Axes>"
      ]
     },
     "metadata": {},
     "output_type": "display_data"
    }
   ],
   "source": [
    "# x축 라벨 각도 변경하기\n",
    "final_df['2022-01-01':].plot.line(rot=45)"
   ]
  },
  {
   "cell_type": "code",
   "execution_count": 21,
   "id": "6de5b449",
   "metadata": {},
   "outputs": [
    {
     "name": "stdout",
     "output_type": "stream",
     "text": [
      "미국인구( 332915074.0 ) / 대한민국 인구( 51305184.0 )\n"
     ]
    }
   ],
   "source": [
    "# 대한민국 인구\n",
    "kor_population = kor_date_index_df['population']['2020-01-22']\n",
    "\n",
    "# 미국 인구\n",
    "usa_population = usa_date_index_df['population']['2020-01-22']\n",
    "\n",
    "print('미국인구(', usa_population, ') / 대한민국 인구(', kor_population, ')')"
   ]
  },
  {
   "cell_type": "code",
   "execution_count": 22,
   "id": "5de34504",
   "metadata": {},
   "outputs": [
    {
     "data": {
      "text/plain": [
       "6.49"
      ]
     },
     "execution_count": 22,
     "metadata": {},
     "output_type": "execute_result"
    }
   ],
   "source": [
    "# 인구 비율 구하기\n",
    "rate = round((usa_population / kor_population), 2)\n",
    "rate"
   ]
  },
  {
   "cell_type": "code",
   "execution_count": 23,
   "id": "10c4e143",
   "metadata": {},
   "outputs": [
    {
     "data": {
      "text/html": [
       "<div>\n",
       "<style scoped>\n",
       "    .dataframe tbody tr th:only-of-type {\n",
       "        vertical-align: middle;\n",
       "    }\n",
       "\n",
       "    .dataframe tbody tr th {\n",
       "        vertical-align: top;\n",
       "    }\n",
       "\n",
       "    .dataframe thead th {\n",
       "        text-align: right;\n",
       "    }\n",
       "</style>\n",
       "<table border=\"1\" class=\"dataframe\">\n",
       "  <thead>\n",
       "    <tr style=\"text-align: right;\">\n",
       "      <th></th>\n",
       "      <th>KOR</th>\n",
       "      <th>USA</th>\n",
       "    </tr>\n",
       "    <tr>\n",
       "      <th>date</th>\n",
       "      <th></th>\n",
       "      <th></th>\n",
       "    </tr>\n",
       "  </thead>\n",
       "  <tbody>\n",
       "    <tr>\n",
       "      <th>2020-01-22</th>\n",
       "      <td>6.49</td>\n",
       "      <td>1.0</td>\n",
       "    </tr>\n",
       "    <tr>\n",
       "      <th>2020-01-23</th>\n",
       "      <td>6.49</td>\n",
       "      <td>1.0</td>\n",
       "    </tr>\n",
       "    <tr>\n",
       "      <th>2020-01-24</th>\n",
       "      <td>12.98</td>\n",
       "      <td>2.0</td>\n",
       "    </tr>\n",
       "    <tr>\n",
       "      <th>2020-01-25</th>\n",
       "      <td>12.98</td>\n",
       "      <td>2.0</td>\n",
       "    </tr>\n",
       "    <tr>\n",
       "      <th>2020-01-26</th>\n",
       "      <td>19.47</td>\n",
       "      <td>5.0</td>\n",
       "    </tr>\n",
       "  </tbody>\n",
       "</table>\n",
       "</div>"
      ],
      "text/plain": [
       "              KOR  USA\n",
       "date                  \n",
       "2020-01-22   6.49  1.0\n",
       "2020-01-23   6.49  1.0\n",
       "2020-01-24  12.98  2.0\n",
       "2020-01-25  12.98  2.0\n",
       "2020-01-26  19.47  5.0"
      ]
     },
     "execution_count": 23,
     "metadata": {},
     "output_type": "execute_result"
    }
   ],
   "source": [
    "# 확진자 비율을 적용한 최종 데이터프레임 생성하기\n",
    "final_revised_df = pd.DataFrame({\n",
    "    'KOR':kor_total_cases * rate,            # 비율 반영\n",
    "    'USA':usa_total_cases\n",
    "    }, index=kor_date_index_df.index\n",
    ")\n",
    "\n",
    "final_revised_df.head()"
   ]
  },
  {
   "cell_type": "code",
   "execution_count": 24,
   "id": "4c09bab4",
   "metadata": {},
   "outputs": [
    {
     "data": {
      "text/plain": [
       "<AxesSubplot:xlabel='date'>"
      ]
     },
     "execution_count": 24,
     "metadata": {},
     "output_type": "execute_result"
    },
    {
     "data": {
      "image/png": "[encoded data removed]",
      "text/plain": [
       "<Figure size 640x480 with 1 Axes>"
      ]
     },
     "metadata": {},
     "output_type": "display_data"
    }
   ],
   "source": [
    "# 최종 전체 그래프 확인하기\n",
    "final_revised_df[:].plot.line()"
   ]
  },
  {
   "cell_type": "code",
   "execution_count": 25,
   "id": "a1195925",
   "metadata": {},
   "outputs": [
    {
     "data": {
      "text/plain": [
       "<AxesSubplot:xlabel='date'>"
      ]
     },
     "execution_count": 25,
     "metadata": {},
     "output_type": "execute_result"
    },
    {
     "data": {
      "image/png": "[encoded data removed]",
      "text/plain": [
       "<Figure size 640x480 with 1 Axes>"
      ]
     },
     "metadata": {},
     "output_type": "display_data"
    }
   ],
   "source": [
    "# 최종 2022년(6월까지) 그래프 확인하기\n",
    "final_revised_df['2022-01-01':].plot.line(rot=45)"
   ]
  },
  {
   "cell_type": "markdown",
   "id": "397b8e50",
   "metadata": {},
   "source": [
    "### 저 그래프를 참고하면 2022년 상반기 이후로 대한민국보다 미국의 확진자 비율이 더 낮아진다는 것을 확인할 수 있다"
   ]
  }
 ],
 "metadata": {
  "kernelspec": {
   "display_name": "Python 3 (ipykernel)",
   "language": "python",
   "name": "python3"
  },
  "language_info": {
   "codemirror_mode": {
    "name": "ipython",
    "version": 3
   },
   "file_extension": ".py",
   "mimetype": "text/x-python",
   "name": "python",
   "nbconvert_exporter": "python",
   "pygments_lexer": "ipython3",
   "version": "3.9.13"
  },
  "toc": {
   "base_numbering": 1,
   "nav_menu": {},
   "number_sections": false,
   "sideBar": true,
   "skip_h1_title": false,
   "title_cell": "Table of Contents",
   "title_sidebar": "Contents",
   "toc_cell": false,
   "toc_position": {
    "height": "calc(100% - 180px)",
    "left": "10px",
    "top": "150px",
    "width": "275.796875px"
   },
   "toc_section_display": true,
   "toc_window_display": false
  }
 },
 "nbformat": 4,
 "nbformat_minor": 5
}
